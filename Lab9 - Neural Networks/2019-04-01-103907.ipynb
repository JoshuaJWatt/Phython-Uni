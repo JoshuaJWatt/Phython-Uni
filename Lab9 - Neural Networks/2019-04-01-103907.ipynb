{
 "cells": [
  {
   "cell_type": "markdown",
   "metadata": {
    "collapsed": false
   },
   "source": [
    "# Lab 9: A decision tree applied to the neutrino data set\n",
    "In the previous lab session you learned how to use a dataframe to analyse the neutrino data set. Single variable selections were applied on the training data and variables were sorted in order of descending value of the rejection\\* efficiency metric. The goal of this week is to combine selections on multiple variables to achieve the best value possible in our metric.\n",
    "\n",
    "As we learned in the Lab session 5, it is important to apply our selection to the \"test\" data set in order to check that we are not training our selections on a statistical fluctuation. For **each** question  of today's lab you should compare the value you achieve for the rejection\\* efficiency on the test data set **without** preparing a new selection.\n",
    "\n",
    "   * Expand the table you produced last week and add a column for the rejection\\* efficiency using the test data set\n",
    "   * Combine the selections identified last week together in groups of 2 to 6 and evaulate the maximum rejection\\* efficiency that can be achieved and compare the training and the test data set results. You should try different combinations without changing the selections optimised last week. How does your best combination compare with the best result achieved last week?\n",
    "   * Study correlation between the variables that you identified as \"good\". Prepare scatter plots for pairs of this variables and indicate if these variables are correlated \n",
    "   * For the two variables with the best discrimination identified last week, plot the value of rejection\\* efficiency as a function of the selection on the two variables as a colour plot with the two variables as coordinates and the colour indicating the maximum value achieved\n",
    "   * Implement a decision tree. Start with the selection with the best discrimination and define the subset of events that satisfy that selection. Then identify the selection giving the best discrimination on the subset and proceed iteratively. Plot or print the best value you achieve as a function of the number of iterations\n",
    "   "
   ]
  },
  {
   "cell_type": "code",
   "execution_count": 0,
   "metadata": {
    "collapsed": false
   },
   "outputs": [
   ],
   "source": [
   ]
  }
 ],
 "metadata": {
  "kernelspec": {
   "display_name": "Python 3 (Anaconda 5)",
   "env": {
    "LD_LIBRARY_PATH": "/ext/anaconda5/lib",
    "PYTHONHOME": "/ext/anaconda5/lib/python3.5",
    "PYTHONPATH": "/ext/anaconda5/lib/python3.5:/ext/anaconda5/lib/python3.5/site-packages"
   },
   "language": "python",
   "metadata": {
    "cocalc": {
     "description": "Python/R distribution for data science",
     "priority": 5,
     "url": "https://www.anaconda.com/distribution/"
    }
   },
   "name": "anaconda5"
  },
  "language_info": {
   "codemirror_mode": {
    "name": "ipython",
    "version": 3
   },
   "file_extension": ".py",
   "mimetype": "text/x-python",
   "name": "python",
   "nbconvert_exporter": "python",
   "pygments_lexer": "ipython3",
   "version": "3.6.6"
  }
 },
 "nbformat": 4,
 "nbformat_minor": 0
}