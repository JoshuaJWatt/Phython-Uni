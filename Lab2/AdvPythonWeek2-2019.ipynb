{
 "cells": [
  {
   "cell_type": "markdown",
   "metadata": {
    "collapsed": false
   },
   "source": [
    "# The Heat equation - part 2\n",
    "\n",
    "## Numerical solutions\n",
    "A solution can be found numerically using time steps with the so-called \"leap frog\" method. To do this we replace the derivative in time with the approximation\n",
    "$$\\frac{\\partial T(x,t)}{\\partial t} = \\frac{T(x,t+\\Delta t)-T(x,t)}{\\Delta t} + ...$$\n",
    "To approximate the second derivative over $x$ we write\n",
    "$$T(x+\\Delta x,t ) = T(x,t) + \\frac{\\partial T(x,t)}{\\partial x} \\Delta x + \\frac{1}{2} \\frac{\\partial^2 T(x,t)}{\\partial x^2} (\\Delta x)^2+...$$\n",
    "$$T(x-\\Delta x,t ) = T(x,t) - \\frac{\\partial T(x,t)}{\\partial x} \\Delta x + \\frac{1}{2} \\frac{\\partial^2 T(x,t)}{\\partial x^2} (\\Delta x)^2+...$$\n",
    "Adding the two terms and solving for the second derivative we obtain\n",
    "$$\\frac{\\partial^2 T(x,t)}{\\partial x^2} = \\frac{1}{\\Delta x^2} \\left[T(x+\\Delta x)+T(x-\\Delta x)-2T(x,t) \\right]$$\n",
    "Substituting both approximations in the heat equations\n",
    "$$\\frac{T(x,t+\\Delta t)-T(x,t)}{\\Delta t} = \\frac{k}{c \\rho} \\frac{1}{\\Delta x^2} \\left[T(x+\\Delta x)+T(x-\\Delta x)-2T(x,t) \\right]$$\n",
    "By which we get\n",
    "$$T(x,t+\\Delta t)=T(x,t) + \\eta \\left[ T(x+\\Delta x)+T(x-\\Delta x)-2T(x,t) \\right] \\ \\ \\ , \\ \\eta=\\frac{k \\Delta t}{c \\rho \\Delta x^2} $$\n",
    "Thus we can evaluate the value of $T(x,t+\\Delta t)$ once the value of $T(x,t)$ is known. The numerical method will consist in starting with the given initial condition at $t=0$ and propagate that forward in time, hence the name of \"leap frog\".\n",
    "\n",
    "Create a matrix of points $T_{i,j}$ with intervals $\\Delta t$ and $\\Delta x$ and solve the equation using the leapfrog method:\n",
    "$$T_{i,j+1}=T_{i,j} + \\eta \\left[T_{i+1,j}+T_{i-1,j}-2T_{i,j} \\right], \\ \\ \\ \\eta=\\frac{k\\Delta t}{C \\rho \\Delta x^2}$$\n",
    "Where we have indicated $x=i \\Delta x$ and $t=j \\Delta t$. Start by using $\\Delta x=0.01$m and $\\Delta t=0.5$s "
   ]
  },
  {
   "cell_type": "markdown",
   "metadata": {
    "collapsed": false
   },
   "source": [
    "## Code the numerical solution\n",
    "Write code to calculate $T_{ij}$ in a recursive manner. \n",
    "- Plot T(x,t) for t=0, 20, 100s and compare with the plot in Exercise 1\n",
    "- Repeat the 3-D $T(x,t)$ wireframe plot of Exercise 1. "
   ]
  },
  {
   "cell_type": "code",
   "execution_count": 0,
   "metadata": {
    "collapsed": false
   },
   "outputs": [
   ],
   "source": [
    "# Define constants\n",
    "SpH=900  # J/(kg K)\n",
    "Rho=2700 # kg/m3\n",
    "kap=220  # W/(m K)\n",
    "\n",
    "# Define parameters of the problem\n",
    "BarL=0.3 # m\n",
    "T0=100.  # C\n",
    "\n",
    "dX = 0.01\n",
    "dt = 0.5\n",
    "Eta = (kap * dt) % (SpH * Rho * (sX**2))\n",
    "\n",
    "# Number of points along x and t. Note! We need to do 31 and 201 points to get the correct Delta X and Delta T. \n",
    "def LeapFrog(NPx,NPt,tmax): #I have no idea what this is or why it is here\n",
    "\n",
    "#Get set of Xs & ts, in separate lists, then sum over them\n",
    "#Make some lists:\n",
    "Xlist = np.arange(0, 100, dX)\n",
    "tlist = np.arange(0, 5000, dt) #So these are the same length to avoid errors that might come up\n",
    "Tlist = []\n",
    "\n",
    "\n",
    "for j in range (0, 9999)\n",
    "    for i in range (0, 9999)\n",
    "        Tlist[0] = 0\n",
    "        Tlist[j + 1] = Tlist[j] + Eta * (\n"
   ]
  },
  {
   "cell_type": "markdown",
   "metadata": {
    "collapsed": false
   },
   "source": [
    "## Stability study\n",
    "In this section we evaluate how the quality of our solution depends on the choice of $\\Delta x$ and $\\Delta t$. We will not be able to find a stable solution if the value of $\\eta>0.5$. This can be checked using the cases below. For each of the 4 cases below calculate the value of $eta$ and plot $T(x,t=100s)$\n",
    "- Fix $\\Delta x = 0.01$ m and change the value of $\\Delta t$ to 0.2 s and 1 s. Compare the results with those obtained in exercise 2. \n",
    "- Fix $\\Delta t = 0.5$ s and change the value of $\\Delta x$ to 0.02 m and 0.005 m. Compare the results with those obtained in exercise 2.\n",
    "\n",
    "A mathematical proof of the instability for $\\eta>0.5$ is provided in addendum. \n"
   ]
  },
  {
   "cell_type": "markdown",
   "metadata": {
    "collapsed": false
   },
   "source": [
    "## Compute performance (PHY428)\n",
    "- Using the leap-frog numerical solution, show the time needed to evaluate the first 100 s of the solution as a function of $\\Delta x$ and $\\Delta t$. Present two graphs, one where $\\Delta x$ is fixed and one when $\\Delta t$ is fixed. Mark on the graph where the $\\eta=0.5$ condition is reached.\n"
   ]
  },
  {
   "cell_type": "markdown",
   "metadata": {
    "collapsed": false
   },
   "source": [
    "## Addendum. Calculation of the stability limit\n",
    "You noticed that the difference between the analytical solution and the leap frog solution exhibits wild fluctuations when the leap frog solution does not converge. When that happens the solution is not stable. To assess the value of the parameter for which we obtain a stable solution, we assume that the difference has eigenmodes:\n",
    "$$T_{m,j}=\\xi(\\lambda)^j \\exp \\left( {i \\frac{2\\pi}{\\lambda} m \\Delta x } \\right)$$\n",
    "Where we use $i$ as the imaginary constant and $T_{m,j}$ refers to the temperature at time $j \\Delta t$ for the point $m \\Delta x$. \n",
    "\n",
    "This formula tells us that any eigenmode in the difference gets amplified or damped at every iteration by a factor $\\xi$, which depends on the wavelength $\\lambda$ of the mode. Replacing the equation above into the formula used for the leap-frog method we obtain:\n",
    "$$\\xi(\\lambda)^{j+1} \\exp \\left(i \\frac{2\\pi}{\\lambda} m \\Delta x \\right) = \\xi(\\lambda)^{j} \\exp \\left(i \\frac{2\\pi}{\\lambda} m \\Delta x  \\right)+ \\eta \\left[  \\exp \\left(i \\frac{2\\pi}{\\lambda} (m+1) \\Delta x  \\right)  + \\exp \\left(i \\frac{2\\pi}{\\lambda} (m-1) \\Delta x  \\right) -2 \\exp \\left(i \\frac{2\\pi}{\\lambda} m \\Delta x  \\right)   \\right]$$\n",
    "\n",
    "Dividing both sides of the equation by $ \\xi(\\lambda)^{j} \\exp \\left(i \\frac{2\\pi}{\\lambda} m \\Delta x \\right)$ we obtain:\n",
    "$$\\xi(\\lambda) = 1 + 2 \\eta \\left[ \\cos \\left( \\frac{2\\pi}{\\lambda} m \\Delta x  \\right) -1 \\right] $$\n",
    "\n",
    "For the quantity $|\\xi|<1$ for any value of $x$, we need to have $\\eta < 0.5$\n"
   ]
  },
  {
   "cell_type": "markdown",
   "metadata": {
    "collapsed": false
   },
   "source": [
    "### General reference\n",
    "This project was inspired by Chapter 14 of the book \"Computational Physics\" by Laundau, Paez and Bordeianu published by Wiley. There should be a few copies available in the library. "
   ]
  },
  {
   "cell_type": "code",
   "execution_count": 0,
   "metadata": {
    "collapsed": false
   },
   "outputs": [
   ],
   "source": [
   ]
  }
 ],
 "metadata": {
  "kernelspec": {
   "display_name": "Python 3 (Anaconda 5)",
   "language": "python",
   "name": "anaconda5"
  },
  "language_info": {
   "codemirror_mode": {
    "name": "ipython",
    "version": 3
   },
   "file_extension": ".py",
   "mimetype": "text/x-python",
   "name": "python",
   "nbconvert_exporter": "python",
   "pygments_lexer": "ipython3",
   "version": "3.6.6"
  }
 },
 "nbformat": 4,
 "nbformat_minor": 0
}