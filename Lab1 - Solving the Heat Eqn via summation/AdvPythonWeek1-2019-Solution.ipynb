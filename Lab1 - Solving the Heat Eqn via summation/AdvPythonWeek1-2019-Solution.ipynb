{
 "cells": [
  {
   "cell_type": "markdown",
   "metadata": {
    "collapsed": false
   },
   "source": [
    "# The Heat equation - part 1\n",
    "\n",
    "## A few theoretical remarks\n",
    "Heat propagation is described by the differential equation (for a one-dimensional system)\n",
    "$$\\frac{\\partial T(x,t)}{\\partial t} = \\frac{k}{C \\rho} \\frac{\\partial^2 T(x,t)}{\\partial x^2},$$\n",
    "which describes the variation of temperature ($T$) as a function of a coordinate ($x$) and time ($t$).  $k$ is the thermal conductivity, $C$ is the heat capacity and $\\rho$ the density of a material.\n",
    "\n",
    "An analytical solution can be found by separating the variables $x$ and $t$\n",
    "$$T(x,t)=X(x)\\cal{T} (t)$$\n",
    "Substituting into the original equation, we can rewrite this as two non-coupled ordinary differential equations (ODE) as a function of the $t$ and $x$ variables.\n",
    "$$\\frac{d \\cal{T}}{dt} (t) + \\alpha^2 \\frac{k}{C \\rho} {\\cal T}(t) = 0, \\ \\ \\ \\ \\frac{d^2 X}{d x^2}(x) + \\alpha^2 X(x)=0,$$\n",
    "where $\\alpha$ is a real number. These are ordinary differential equations, the solutions can be found for set values of $\\alpha$. When multiple values of $\\alpha$ are allowed, the corresponding solutions need to be added up.\n",
    "\n",
    "For this project we consider a bar of length $L=0.3$ m with the boundary conditions $T(0,t)=T(L,t)=0$ C, e.g. with the two edges kept at a constant temperature of 0 C. We also assume the initial condition $T(x,0)=T_0=100$C for 0<x<L.\n",
    "\n",
    "The boundary condition requires a solution for $X(x)$ of the type:\n",
    "$$X(x)=\\sin \\alpha_n x \\ \\ \\mbox{with} \\ \\ \\alpha_n=n \\pi/L$$\n",
    "Consequently the solution for $\\cal{T}(t)$ is written in the form:\n",
    "$${\\cal T}(t)=\\exp{\\left( -\\frac{\\alpha_n^2 kt}{C \\rho} \\right) } $$\n",
    "Which leads to the generic solution\n",
    "$$T(x,t) = \\sum_{n=1}^{\\infty} A_n \\sin (\\alpha_n x) \\exp{\\left( -\\frac{\\alpha_n^2 kt}{C \\rho} \\right) }, $$\n",
    "\n",
    "To satisfy the initial condition, we can derive the factors $A_n$ of the Fourier serie and write the analytical solution as\n",
    "$$T(x,t) = \\sum_{n=1, 3, 5, ...}^{\\infty} T_n(x,t) = \\sum_{n=1, 3, 5, ...}^{\\infty} \\frac{4T_0}{n \\pi} \\sin (\\alpha_n x) \\exp{\\left( -\\frac{\\alpha_n^2 kt}{C \\rho} \\right) }, $$\n",
    "\n",
    "\n",
    "In your numerical implementation use Aluminium as a metal with heat conductivity $k=220$ W/(m K), density $\\rho=2700$ kg/m$^3$ and specific heat $C=900$ J/(kg K). \n",
    "\n",
    "Please **note**, for simplicity we use temperatures in Celsius. Using Kelvin would require adding a constant of T=273.16K, which, being a constant, would disappear from the differential equation.\n",
    "\n"
   ]
  },
  {
   "cell_type": "markdown",
   "metadata": {
    "collapsed": false
   },
   "source": [
    "## Question: Sum the members of the series and produce a few plots\n",
    "This exercise will jog your memory on how to add vectors, write a function, plot a few graphs. These are all basic python skills that you have developed in your previous courses.\n",
    "\n",
    "The analytical solution is presented as an infinite serie of terms. \n",
    "- Write a function that calculates $T_n(x,t)$, e.g. the n-th term of the serie as a function of $x$ and $t$. You should pass an array for x, so this can be used for the calculations and plots in the questions below\n",
    "- Plot two graphs, each with the first three terms of the serie (n=1,3,5) in different colours. One graph for for t=0s and one for t=20s. Choose an appropriate number of points along $x$. How does the maximum $T$ depend on $n$ for $t=20s$? Why?  \n",
    "- Add the first 50 terms (up to $n=99$) of the serie and plot a graph of $T(x,t)$ for t=0, 20, 100 s. If enough points are used in the $x$ coordinate a ripple is visible in the graph for $t=0$ s. Explain this. \n",
    "- Produce a 3D plot showing $T(x,t)$ for t up to 100 s, when adding the first 50 terms. Plot as a wireframe and as a colour temperature map"
   ]
  },
  {
   "cell_type": "code",
   "execution_count": 3,
   "metadata": {
    "collapsed": false
   },
   "outputs": [
   ],
   "source": [
    "# Define constants\n",
    "SpH=900  # J/(kg K)\n",
    "Rho=2700 # kg/m3\n",
    "kap=220  # W/(m K)\n",
    "\n",
    "# Define parameters of the problem\n",
    "BarL=0.3 # m\n",
    "T0=100.  # C\n",
    "\n",
    "# import statements\n",
    "import numpy as np\n",
    "import matplotlib.pyplot as plt\n",
    "\n"
   ]
  },
  {
   "cell_type": "code",
   "execution_count": 4,
   "metadata": {
    "collapsed": false
   },
   "outputs": [
    {
     "data": {
      "image/png": "[encoded data removed]"
     },
     "metadata": {
      "image/png": {
       "height": 263,
       "width": 392
      }
     }
    },
    {
     "data": {
      "image/png": "[encoded data removed]"
     },
     "metadata": {
      "image/png": {
       "height": 263,
       "width": 390
      }
     }
    },
    {
     "name": "stdout",
     "output_type": "stream",
     "text": [
      "HIGH N GIVES SMALL T\n"
     ]
    },
    {
     "data": {
      "image/png": "[encoded data removed]"
     },
     "metadata": {
      "image/png": {
       "height": 263,
       "width": 390
      }
     }
    },
    {
     "data": {
      "text/plain": [
       "Text(0,0.5,'Time')"
      ]
     },
     "execution_count": 4,
     "metadata": {
     },
     "output_type": "execute_result"
    },
    {
     "data": {
      "image/png": "[encoded data removed]"
     },
     "metadata": {
      "image/png": {
       "height": 235,
       "width": 352
      }
     }
    },
    {
     "data": {
      "image/png": "[encoded data removed]"
     },
     "metadata": {
      "image/png": {
       "height": 265,
       "width": 389
      }
     }
    }
   ],
   "source": [
    "from mpl_toolkits.mplot3d import Axes3D\n",
    "# Complete the code below for the Nth term\n",
    "# n-th term calculation. Here we pass an array in x and return an array in y. \n",
    "\n",
    "#TAsk 1\n",
    "def TTermN(xs,t,n): ##Returns T_n\n",
    "    an = (n*np.pi/BarL)\n",
    "    return ((4*T0)/(n*np.pi))*np.sin(an*xs)*np.exp(-((an**2)*kap*t)/(SpH*Rho)) \n",
    "\n",
    "\n",
    "#TAsk 3\n",
    "def Tsum(xs, t): ##Sums all values of T for n=1 to n=99\n",
    "    T = []\n",
    "    for i in range(50):\n",
    "        an = ((2*i+1)*np.pi/BarL)\n",
    "        T.append( ((4*T0)/((2*i+1)*np.pi))*np.sin(an*xs)*np.exp(-((an**2)*kap*t)/(SpH*Rho)) )\n",
    "    Tsum = sum(T)\n",
    "    return(Tsum)\n",
    "\n",
    "#TAsk 2\n",
    "xs=np.linspace(0, BarL, 100)\n",
    "\n",
    "plt.plot(xs, TTermN(xs,0,1), label = 'n=1') ##Plots T_n for t=0\n",
    "plt.plot(xs, TTermN(xs,0,3), label = 'n=3')\n",
    "plt.plot(xs, TTermN(xs,0,5), label = 'n=5')\n",
    "plt.xlabel('X')\n",
    "plt.ylabel('Temperature')\n",
    "plt.legend()\n",
    "plt.show()\n",
    "\n",
    "\n",
    "plt.plot(xs, TTermN(xs,20,1), label = 'n=1') ##Plots T_n for t=20\n",
    "plt.plot(xs, TTermN(xs,20,3), label = 'n=3')\n",
    "plt.plot(xs, TTermN(xs,20,5), label = 'n=5')\n",
    "plt.xlabel('X')\n",
    "plt.ylabel('Temperature')\n",
    "plt.legend()\n",
    "plt.show()\n",
    "\n",
    "print(\"HIGH N GIVES SMALL T\")\n",
    "\n",
    "#Task 3 - Plots T values for n=1->99 at t=0, 20, 100 on 1 graph\n",
    "plt.plot(xs, Tsum(xs, 0), label = 't=0')\n",
    "# plt.show()\n",
    "plt.plot(xs, Tsum(xs, 20), label = 't=20')\n",
    "# plt.show()\n",
    "plt.plot(xs, Tsum(xs, 100), label = 't=100')\n",
    "plt.xlabel('X')\n",
    "plt.ylabel('Temperature')\n",
    "plt.legend()\n",
    "plt.show()\n",
    "\n",
    "\n",
    "#Task 4\n",
    "xs3d = np.linspace(0, BarL, 100)\n",
    "ts3d = np.linspace(0, 100, 100)\n",
    "X, T = np.meshgrid(xs3d, ts3d)\n",
    "\n",
    "fig = plt.figure() ##3d plot of T, as a function of x & t\n",
    "ax = fig.gca(projection = '3d')\n",
    "ax.plot_wireframe(X, T, Tsum(X, T))\n",
    "\n",
    "fig2 = plt.figure() ##Heatmap of T, as a function of x & t\n",
    "con = plt.contourf(X, T, Tsum(X, T))\n",
    "cbar = fig2.colorbar(con)\n",
    "cbar.set_label('Temperature')\n",
    "plt.xlabel('X')\n",
    "plt.ylabel('Time')"
   ]
  },
  {
   "cell_type": "code",
   "execution_count": 0,
   "metadata": {
    "collapsed": false
   },
   "outputs": [
   ],
   "source": [
   ]
  }
 ],
 "metadata": {
  "kernelspec": {
   "display_name": "Python 3 (old Anaconda 3)",
   "env": {
    "LD_LIBRARY_PATH": "/ext/anaconda3/lib",
    "PYTHONHOME": "/ext/anaconda3/lib/python3.5",
    "PYTHONPATH": "/ext/anaconda3/lib/python3.5:/ext/anaconda3/lib/python3.5/site-packages"
   },
   "language": "python",
   "metadata": {
    "cocalc": {
     "description": "Python/R distribution for data science",
     "priority": -1,
     "url": "https://www.anaconda.com/distribution/"
    }
   },
   "name": "anaconda3"
  },
  "language_info": {
   "codemirror_mode": {
    "name": "ipython",
    "version": 3
   },
   "file_extension": ".py",
   "mimetype": "text/x-python",
   "name": "python",
   "nbconvert_exporter": "python",
   "pygments_lexer": "ipython3",
   "version": "3.5.5"
  }
 },
 "nbformat": 4,
 "nbformat_minor": 0
}