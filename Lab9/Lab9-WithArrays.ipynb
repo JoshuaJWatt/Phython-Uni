{
 "cells": [
  {
   "cell_type": "code",
   "execution_count": 10,
   "metadata": {
    "collapsed": false,
    "scrolled": true
   },
   "outputs": [
   ],
   "source": [
    "# Let's give this another go\n",
    "\n",
    "# 1. turn data to nparray\n",
    "# 2. cut function\n",
    "# 3. Matric calc function\n",
    "# 4. best cut function? (include cut direction)\n",
    "\n",
    "#Imports\n",
    "import pandas as pd\n",
    "import numpy as np\n",
    "from pandas import DataFrame\n",
    "from matplotlib import pyplot as plt\n",
    "\n",
    "# Pulling in the data\n",
    "signal = pd.read_csv('../data/signal_training.dat', sep = \" \")\n",
    "background = pd.read_csv('../data/background_training.dat', sep = \" \")\n",
    "signaltest = pd.read_csv('../data/signal_data.dat', sep = \" \")\n",
    "backgroundtest = pd.read_csv('../data/background_data.dat', sep = \" \")\n",
    "\n",
    "sigframe = DataFrame(signal)\n",
    "sigarray = sigframe.values\n",
    "bacframe = DataFrame(background)\n",
    "bacarray = bacframe.values\n",
    "sigframetest = DataFrame(signaltest)\n",
    "sigarraytest = sigframetest.values\n",
    "bacframetest = DataFrame(backgroundtest)\n",
    "bacarraytest = bacframetest.values\n",
    "\n",
    "fulldatanames = list(signal.keys())\n",
    "datanames = list(signal.keys())[3:]\n",
    "\n",
    "def matriceval(nsig, nsigkeep, nbackeep):\n",
    "    E = nsigkeep / nsig\n",
    "    try:\n",
    "        R = nsigkeep / (nsigkeep + nbackeep)\n",
    "    except ZeroDivisonError:\n",
    "        R = 0\n",
    "    return(E*R)\n",
    "\n",
    "#This function is to make the code more readable\n",
    "def emptylist(): \n",
    "    return([])\n",
    "\n",
    "# def arrayificate(dataframe):\n",
    "#     headers = list(dataframe.keys())\n",
    "#     array = emptylist()\n",
    "#     for i in headers:\n",
    "#         array.append(dataframe[i])\n",
    "#     return(array)\n",
    "\n",
    "def cutfunc(list_, cutval, cutdir)\n",
    "        col = list_\n",
    "        if cutdir == 'R':\n",
    "            col[np.greater(dataarray, cutval)]\n",
    "        elif cutdir == 'L':\n",
    "            col[np.less(dataarray, cutval)]\n",
    "    return(col)\n",
    "\n",
    "def bestcut(\n"
   ]
  },
  {
   "cell_type": "code",
   "execution_count": 0,
   "metadata": {
    "collapsed": false
   },
   "outputs": [
   ],
   "source": [
   ]
  }
 ],
 "metadata": {
  "kernelspec": {
   "display_name": "Python 3 (Ubuntu Linux)",
   "language": "python",
   "metadata": {
    "cocalc": {
     "description": "Python 3 programming language",
     "priority": 100,
     "url": "https://www.python.org/"
    }
   },
   "name": "python3"
  }
 },
 "nbformat": 4,
 "nbformat_minor": 0
}