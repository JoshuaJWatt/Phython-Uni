{
 "cells": [
  {
   "cell_type": "markdown",
   "metadata": {
    "collapsed": false
   },
   "source": [
    "### NN Stuff"
   ]
  },
  {
   "cell_type": "code",
   "execution_count": 1,
   "metadata": {
    "collapsed": false
   },
   "outputs": [
   ],
   "source": [
    "# Package imports\n",
    "import matplotlib.pyplot as plt\n",
    "import numpy as np\n",
    "import pandas as pd\n",
    "\n",
    "import matplotlib\n",
    "# Display plots inline and change default figure size\n",
    "%matplotlib inline\n",
    "matplotlib.rcParams['figure.figsize'] = (10.0, 8.0)"
   ]
  },
  {
   "cell_type": "code",
   "execution_count": 2,
   "metadata": {
    "collapsed": false,
    "scrolled": true
   },
   "outputs": [
   ],
   "source": [
    "## Data Plot Prep\n",
    "\n",
    "# This cell contains the code to prepare the datasets\n",
    "# It uses sklearn.make_moons that generate sets of data sets to train and test classification algorithms\n",
    "import sklearn\n",
    "import sklearn.datasets\n",
    "import sklearn.linear_model\n",
    "\n",
    "# Generate a dataset and plot it\n",
    "#     Npoints is the number of points in the dataset\n",
    "#     rndm is a random seed so different datasets can be generated\n",
    "#     noise is a parameter controlling how much points are scattered\n",
    "def generate_data(Npoints,rndm=0,noise=0.20):\n",
    "    np.random.seed(rndm)\n",
    "    X, y = sklearn.datasets.make_moons(Npoints, noise=noise)\n",
    "    return X,y\n",
    "\n",
    "# Generate a dataset and plot it\n",
    "# X,y=generate_data(500)\n",
    "\n",
    "\n",
    "# Helper function to plot a decision boundary.\n",
    "# Input: pred_func. A function defined that operates on an array of points. \n",
    "#                   pred_func is expected to return an array of 0 and 1 \n",
    "#                   for each point passed in the input array a 0 or 1 is returned based on the condition\n",
    "#                   in the function\n",
    "#\n",
    "# # If you don't fully understand this function don't worry, it just generates the contour plot below.\n",
    "def plot_decision_boundary(pred_func):\n",
    "    # Set min and max values and give it some padding\n",
    "    x_min, x_max = X[:, 0].min() - .5, X[:, 0].max() + .5\n",
    "    y_min, y_max = X[:, 1].min() - .5, X[:, 1].max() + .5\n",
    "    h = 0.01\n",
    "    # Generate a grid of points with distance h between them\n",
    "    xx, yy = np.meshgrid(np.arange(x_min, x_max, h), np.arange(y_min, y_max, h))\n",
    "    # Predict the function value for the whole gid\n",
    "    Z = pred_func(np.c_[xx.ravel(), yy.ravel()])\n",
    "    Z = Z.reshape(xx.shape)\n",
    "    # Plot the contour and training examples\n",
    "    plt.contourf(xx, yy, Z, cmap=plt.cm.Spectral)\n",
    "    plt.scatter(X[:, 0], X[:, 1], c=y, cmap=plt.cm.Spectral)\n",
    "\n",
    "\n",
    "# Helper function to calculate how often we get the prediction right\n",
    "# This is the accuracy of our classification e.g. N_right/N_tot\n",
    "def accuracy(pred_func):\n",
    "    yhat=pred_func(X)\n",
    "    return 1.-np.count_nonzero(yhat-y)/len(y) \n",
    "\n",
    "\n",
    "\n",
    "# Because the one above doesn't allow the use of separate generated data (Data not called X, y) for Ex.5, and I'm not rewriting the whole code\n",
    "def plot_decision_boundary1(pred_func, X, y):\n",
    "    # Set min and max values and give it some padding\n",
    "    x_min, x_max = X[:, 0].min() - .5, X[:, 0].max() + .5\n",
    "    y_min, y_max = X[:, 1].min() - .5, X[:, 1].max() + .5\n",
    "    h = 0.01\n",
    "    # Generate a grid of points with distance h between them\n",
    "    xx, yy = np.meshgrid(np.arange(x_min, x_max, h), np.arange(y_min, y_max, h))\n",
    "    # Predict the function value for the whole gid\n",
    "    Z = pred_func(np.c_[xx.ravel(), yy.ravel()])\n",
    "    Z = Z.reshape(xx.shape)\n",
    "    # Plot the contour and training examples\n",
    "    plt.contourf(xx, yy, Z, cmap=plt.cm.Spectral)\n",
    "    plt.scatter(X[:, 0], X[:, 1], c=y, cmap=plt.cm.Spectral)\n",
    "\n",
    "\n",
    "def accuracy1(pred_func, X, y):\n",
    "    yhat=pred_func(X)\n",
    "    return 1.-np.count_nonzero(yhat-y)/len(y) "
   ]
  },
  {
   "cell_type": "code",
   "execution_count": 3,
   "metadata": {
    "collapsed": false,
    "scrolled": true
   },
   "outputs": [
   ],
   "source": [
    "# # A simple way to separate the two categories\n",
    "# def predConst(x,C):\n",
    "#     return np.where(x[:,1]>C, 0, 1)\n",
    "\n",
    "# # Use lambda to turn the function into a function of just x\n",
    "# plot_decision_boundary(lambda x: predConst(x,0.5))\n",
    "# print(\"Accuracy\",accuracy(lambda x: predConst(x,0.5)) )"
   ]
  },
  {
   "cell_type": "markdown",
   "metadata": {
    "collapsed": false
   },
   "source": [
    "### Training Stuff"
   ]
  },
  {
   "cell_type": "code",
   "execution_count": 4,
   "metadata": {
    "collapsed": false
   },
   "outputs": [
   ],
   "source": [
    "# These are parameter that are used in the training\n",
    "# \n",
    "#\n",
    "# num_examples = len(X) # training set size         all in buildmodel\n",
    "# nn_input_dim = 2 # input layer dimensionality\n",
    "# nn_output_dim = 2 # output layer dimensionality\n",
    "\n",
    "# # Gradient descent parameters (I picked these by hand)\n",
    "# epsilon = 0.01 # learning rate for gradient descent\n",
    "# reg_lambda = 0.01 # regularization strength     also in calculateloss"
   ]
  },
  {
   "cell_type": "code",
   "execution_count": 20,
   "metadata": {
    "collapsed": false
   },
   "outputs": [
   ],
   "source": [
    "# Calculate the value of the output layers a2\n",
    "def calcProbsNN(model,x):\n",
    "    W1, b1, W2, b2 = model['W1'], model['b1'], model['W2'], model['b2']\n",
    "#     print('x: ',x)\n",
    "#     print('length: ', len(x))\n",
    "    # Forward propagation\n",
    "    z1 = x.dot(W1) + b1\n",
    "    a1 = np.tanh(z1)\n",
    "    z2 = a1.dot(W2) + b2\n",
    "    # This is the softmax function\n",
    "    exp_scores = np.exp(z2)\n",
    "    # This is a2=yhat, eg the values of the output layer\n",
    "    probs = exp_scores / np.sum(exp_scores, axis=1, keepdims=True)    \n",
    "    return probs\n",
    "    \n",
    "# Helper function to predict an output (0 or 1)\n",
    "def predict(model, x):\n",
    "    probs = calcProbsNN(model,x)   \n",
    "    return np.argmax(probs, axis=1)"
   ]
  },
  {
   "cell_type": "code",
   "execution_count": 6,
   "metadata": {
    "collapsed": false
   },
   "outputs": [
   ],
   "source": [
    "# Helper function to evaluate the total loss on the dataset\n",
    "# See notes from this morning lecture\n",
    "#\n",
    "def calculate_loss(model, reg_lambda = 0.01):\n",
    "    W1, b1, W2, b2 = model['W1'], model['b1'], model['W2'], model['b2']\n",
    "    probs = calcProbsNN(model,X)   \n",
    "    # Calculating the loss\n",
    "    corect_logprobs = -np.log(probs[range(num_examples), y])\n",
    "    data_loss = np.sum(corect_logprobs)\n",
    "    # Add regulatization term to loss (optional)\n",
    "    data_loss += reg_lambda/2 * (np.sum(np.square(W1)) + np.sum(np.square(W2)))\n",
    "    return 1./num_examples * data_loss"
   ]
  },
  {
   "cell_type": "code",
   "execution_count": 7,
   "metadata": {
    "collapsed": false
   },
   "outputs": [
   ],
   "source": [
    "# This function learns parameters for the neural network and returns the model.\n",
    "# - nn_hdim: Number of nodes in the hidden layer\n",
    "# - num_passes: Number of passes through the training data for gradient descent\n",
    "# - print_loss: If True, print the loss every 1000 iterations\n",
    "\n",
    "def build_model(nn_hdim, num_passes=20000, print_loss=False, nn_input_dim = 2, nn_output_dim = 2, epsilon = 0.01, reg_lambda = 0.01):\n",
    "    # Some shit to try fixing things, this hopefully makes it take more than 2 inputs. It also removes the need for nn_input_dim & nn_output_dim\n",
    "    nn_input_dim = X.shape[1]\n",
    "    nn_output_dim = X.shape[1]\n",
    "    # Initialize the parameters to random values. We need to learn these.\n",
    "    np.random.seed(0)\n",
    "    W1 = np.random.randn(nn_input_dim, nn_hdim) / np.sqrt(nn_input_dim)\n",
    "    b1 = np.zeros((1, nn_hdim))\n",
    "    W2 = np.random.randn(nn_hdim, nn_output_dim) / np.sqrt(nn_hdim)\n",
    "    b2 = np.zeros((1, nn_output_dim))\n",
    "#     W1 = np.ones(nn_input_dim, nn_hdim)\n",
    "#     W2 = np.ones(nn_hdim, nn_output_dim)\n",
    "\n",
    "    # This is what we return at the end\n",
    "    model = { 'W1': W1, 'b1': b1, 'W2': W2, 'b2': b2}\n",
    "\n",
    "\n",
    "    # Gradient descent. For each batch...\n",
    "    for i in range(0, num_passes):\n",
    "\n",
    "        # Forward propagation\n",
    "        z1 = X.dot(W1) + b1\n",
    "        a1 = np.tanh(z1)\n",
    "        z2 = a1.dot(W2) + b2\n",
    "        exp_scores = np.exp(z2)\n",
    "        probs = exp_scores / np.sum(exp_scores, axis=1, keepdims=True)\n",
    "\n",
    "        # Backpropagation\n",
    "        delta3 = probs\n",
    "        delta3[range(num_examples), y] -= 1\n",
    "        dW2 = (a1.T).dot(delta3)\n",
    "        db2 = np.sum(delta3, axis=0, keepdims=True)\n",
    "        delta2 = delta3.dot(W2.T) * (1 - np.power(a1, 2))\n",
    "        dW1 = np.dot(X.T, delta2)\n",
    "        db1 = np.sum(delta2, axis=0)\n",
    "\n",
    "        # Add regularization terms (b1 and b2 don't have regularization terms)\n",
    "        dW2 += reg_lambda * W2\n",
    "        dW1 += reg_lambda * W1\n",
    "\n",
    "        # Gradient descent parameter update\n",
    "        W1 += -epsilon * dW1\n",
    "        b1 += -epsilon * db1\n",
    "        W2 += -epsilon * dW2\n",
    "        b2 += -epsilon * db2\n",
    "\n",
    "        # Assign new parameters to the model\n",
    "        model = { 'W1': W1, 'b1': b1, 'W2': W2, 'b2': b2}\n",
    "\n",
    "        # Optionally print the loss.\n",
    "        # This is expensive because it uses the whole dataset, so we don't want to do it too often.\n",
    "        if print_loss and i % 1000 == 0:\n",
    "            print(\"Loss after iteration %i: %f\" %(i, calculate_loss(model)))\n",
    "\n",
    "    return model"
   ]
  },
  {
   "cell_type": "markdown",
   "metadata": {
    "collapsed": false
   },
   "source": [
    "### Model Building"
   ]
  },
  {
   "cell_type": "code",
   "execution_count": 8,
   "metadata": {
    "collapsed": false
   },
   "outputs": [
   ],
   "source": [
    "# # Build a model with a 3-dimensional hidden layer\n",
    "# model = build_model(3, print_loss=True,num_passes=500)\n",
    "\n",
    "# # Plot the decision boundary\n",
    "# plot_decision_boundary(lambda x: predict(model, x))\n",
    "# plt.title(\"Decision Boundary for hidden layer size 3\")\n",
    "# print(\"Accuracy\",accuracy(lambda x: predict(model,x)) )"
   ]
  },
  {
   "cell_type": "code",
   "execution_count": 9,
   "metadata": {
    "collapsed": false
   },
   "outputs": [
   ],
   "source": [
    "def DecBound (nlayer, passcnt):\n",
    "    \"\"\"Plots the prediction model for a NN of 'nlayer' hidden layers with 'passcnt' passes, and returns the accuracy\"\"\"\n",
    "    model = build_model(nlayer, print_loss=False,num_passes=passcnt)\n",
    "#     print(model)\n",
    "    plot_decision_boundary(lambda x: predict(model, x))\n",
    "    plt.title(\"Decision Boundary for hidden layer size {}\".format(nlayer) )\n",
    "    print(\"Accuracy\",accuracy(lambda x: predict(model,x)) )\n",
    "    plt.show()\n",
    "    return(accuracy1(lambda x: predict(model,x), X, y), model)\n",
    "\n",
    "#T This is the separate testing function, to save me rewriting everything so far\n",
    "def DecBound1 (nlayer, passcnt, model, X, y):\n",
    "    \"\"\"Plots the prediction model for a NN of 'nlayer' hidden layers with 'passcnt' passes, and returns the accuracy. Similar to DecBound, but requires a premade model. ie for testing the model\"\"\"\n",
    "    plot_decision_boundary1(lambda x: predict(model, x), X, y)\n",
    "    plt.title(\"Decision Boundary for hidden layer size {}\".format(nlayer) )\n",
    "    print(\"Accuracy\",accuracy1(lambda x: predict(model,x), X, y))\n",
    "    plt.show()\n",
    "    return(accuracy1(lambda x: predict(model,x), X, y), model)\n",
    "\n",
    "# nlist = [1, 2, 3, 4, 5, 10, 50]\n",
    "# acclist = []\n",
    "# modellist = []\n",
    "# for i in nlist:\n",
    "#     A, B = DecBound(i, 500) # These don't need sensible names, as they are just to transfer directly to the list\n",
    "#     acclist.append(A)\n",
    "#     modellist.append(B)"
   ]
  },
  {
   "cell_type": "markdown",
   "metadata": {
    "collapsed": false
   },
   "source": [
    "## Lab 10: Optimise a selection using \"neural network\" techniques\n",
    "We optimise the rejection\\* efficiency metric by implementing a neural network on the variables that we identified as the most powerful one in the Lab 9.\n",
    "\n",
    "As we learned in the Lab session 5, it is important to apply our selection to the \"test\" data set in order to check that we are not training our selections on a statistical fluctuation. For **each** question  of today's lab you should compare the value you achieve for the rejection\\* efficiency on the test data set **without** preparing a new selection.\n",
    "\n",
    "   * Start using only the 2 best variables identified last week and implement a neural network to classify signal and background events. This is very similar to what we did for the 2-dimensional classification exercise with the two variables used being variables from the neutrino data - **Done**\n",
    "   * Generalise your neural network to take a generic number of variables as input and optmise your selection\n",
    "   * For each of the optimised selections above, use the test data set to evaluate the rejection\\* efficiency\n",
    "   * How does the neural network method compare to the decision tree implemented last week?\n"
   ]
  },
  {
   "cell_type": "code",
   "execution_count": 10,
   "metadata": {
    "collapsed": false
   },
   "outputs": [
   ],
   "source": [
    "#Imports\n",
    "import pandas as pd\n",
    "from pandas import DataFrame\n",
    "from matplotlib import pyplot as plt\n",
    "\n",
    "signaldat = pd.read_csv('../data/signal_data.dat', sep = \" \")\n",
    "backgrounddat = pd.read_csv('../data/background_data.dat', sep = \" \")\n",
    "\n",
    "signaltr = pd.read_csv('../data/signal_training.dat', sep = \" \")\n",
    "backgroundtr = pd.read_csv('../data/background_training.dat', sep = \" \")\n",
    "\n",
    "\n",
    "sigframedat = DataFrame(signaldat)\n",
    "bacframedat = DataFrame(backgrounddat)\n",
    "sigframetr = DataFrame(signaltr)\n",
    "bacframetr = DataFrame(backgroundtr)\n",
    "\n",
    "fulldatanames = list(signaldat.keys())\n",
    "dataname = list(signaldat.keys())[3:]"
   ]
  },
  {
   "cell_type": "code",
   "execution_count": 11,
   "metadata": {
    "collapsed": false
   },
   "outputs": [
   ],
   "source": [
    "# print(dataname)"
   ]
  },
  {
   "cell_type": "code",
   "execution_count": 12,
   "metadata": {
    "collapsed": false,
    "scrolled": true
   },
   "outputs": [
   ],
   "source": [
    "#Part 1\n",
    "\n",
    "# effpullx-& effpully are the 2 best vars\n",
    "# We need to prepare the data sets, so they are in the form required by this NN\n",
    "# Training Data\n",
    "\n",
    "# Concatenating the training data into one big dataframe\n",
    "traindata = pd.concat([sigframetr, bacframetr], axis = 0)\n",
    "trainclassify = []\n",
    "\n",
    "# This will give us classifications of the rright length for all our training data (1 for signal, 0 for background)\n",
    "for i in range(len(sigframetr['effpullx'])):\n",
    "    trainclassify.append(1)\n",
    "for i in range(len(bacframetr['effpullx'])):\n",
    "    trainclassify.append(0)\n",
    "\n",
    "# Test Data\n",
    "# All the same stuff, but for test data instead of training. Could be worth making it into a big function.\n",
    "testdata = pd.concat([sigframedat, bacframedat], axis = 0)\n",
    "testclassify = []\n",
    "\n",
    "for i in range(len(sigframedat['effpullx'])):\n",
    "    testclassify.append(1)\n",
    "for i in range(len(bacframedat['effpullx'])):\n",
    "    testclassify.append(0)\n"
   ]
  },
  {
   "cell_type": "code",
   "execution_count": 25,
   "metadata": {
    "collapsed": false
   },
   "outputs": [
    {
     "name": "stdout",
     "output_type": "stream",
     "text": [
      "Loss after iteration 0: 56.792070\n"
     ]
    },
    {
     "name": "stdout",
     "output_type": "stream",
     "text": [
      "Accuracy 0.76125\n"
     ]
    },
    {
     "data": {
      "image/png": "[encoded data removed]",
      "text/plain": [
       "<Figure size 720x576 with 1 Axes>"
      ]
     },
     "execution_count": 25,
     "metadata": {
      "image/png": {
       "height": 481,
       "width": 595
      },
      "needs_background": "light"
     },
     "output_type": "execute_result"
    },
    {
     "data": {
      "text/plain": [
       "(0.76125, {'W1': array([[-356.55298473, -344.04458665],\n",
       "         [-367.35317922, -397.88216458]]),\n",
       "  'b1': array([[-523.68443343, -684.85993413]]),\n",
       "  'W2': array([[ 96.24503649, -95.86322097],\n",
       "         [-31.9012688 ,  32.24382163]]),\n",
       "  'b2': array([[-66.31264394,  66.31264394]])})"
      ]
     },
     "execution_count": 25,
     "metadata": {
     },
     "output_type": "execute_result"
    }
   ],
   "source": [
    "X, y = traindata[['effpullx', 'effpully']].values, trainclassify\n",
    "# Put this directly after wherever we set X\n",
    "num_examples = len(X)\n",
    "\n",
    "model = build_model(3, print_loss=True,num_passes=500)\n",
    "\n",
    "DecBound(2, 5000)"
   ]
  },
  {
   "cell_type": "code",
   "execution_count": 0,
   "metadata": {
    "collapsed": false
   },
   "outputs": [
   ],
   "source": [
    "# Part 2\n",
    "\n",
    "# # Trying to generalise the number of variables\n",
    "# # Currently, 'x' changes dimensions after the 1st iteration. Need to work out why.\n",
    "\n",
    "# X, y = traindata[['effpullx', 'effpully', 'efftime']].values, trainclassify\n",
    "# # Put this directly after wherever we set X\n",
    "# num_examples = len(X)\n",
    "\n",
    "# model = build_model(3, print_loss=True,num_passes=500)\n",
    "\n",
    "# DecBound(2, 5000)"
   ]
  },
  {
   "cell_type": "code",
   "execution_count": 15,
   "metadata": {
    "collapsed": false
   },
   "outputs": [
   ],
   "source": [
    "# This doesn't appear to work, but I'm not sure why.\n",
    "X, y = testdata[['effpullx', 'effpully']].values, testclassify\n",
    "num_examples = len(X)\n",
    "# DecBound1(3, 500, model, X, y)\n",
    "# DecBound(3,5000)"
   ]
  },
  {
   "cell_type": "code",
   "execution_count": 23,
   "metadata": {
    "collapsed": false
   },
   "outputs": [
    {
     "name": "stdout",
     "output_type": "stream",
     "text": [
      "eXr metric for test data:  0.5102040816326531\n"
     ]
    }
   ],
   "source": [
    "# Part 3\n",
    "\n",
    "def expval(nA, nAkeep, nBkeep):\n",
    "    \"\"\"returns value of Eps X Rho (Efficiency * Purity)\"\"\"\n",
    "    eff = nAkeep/nA\n",
    "    try:                                     # Yes, we're doing this again, again\n",
    "        pur = nAkeep / (nAkeep + nBkeep)\n",
    "    except ZeroDivisionError:\n",
    "        pur = 0\n",
    "    return(eff*pur)\n",
    "\n",
    "# We can say that the accuracy = (n - nBkept)/n = nAkept/n\n",
    "# So nAkept = acc * n, nBkept = n - (acc * n)\n",
    "#\n",
    "acc = accuracy1(lambda x: predict(model,x), X, y)\n",
    "n = num_examples # Just to save time typing\n",
    "nAkept = acc * n\n",
    "nBkept = n - (acc * n)\n",
    "nA = len(sigframedat['effpullx'])\n",
    "\n",
    "print('eXr metric for test data: ',expval(nA, nAkept, nBkept))"
   ]
  },
  {
   "cell_type": "code",
   "execution_count": 24,
   "metadata": {
    "collapsed": false
   },
   "outputs": [
   ],
   "source": [
    "# Part 4\n",
    "\n",
    "# I don't know, as I didn't get the decision tree last session, and the solution we were given doesn't work.\n",
    "# So I suppose it's better in that it actually gives a result"
   ]
  },
  {
   "cell_type": "code",
   "execution_count": 0,
   "metadata": {
    "collapsed": false
   },
   "outputs": [
   ],
   "source": [
   ]
  }
 ],
 "metadata": {
  "kernelspec": {
   "display_name": "Python 3 (Anaconda 5)",
   "env": {
    "LD_LIBRARY_PATH": "/ext/anaconda5/lib",
    "PYTHONHOME": "/ext/anaconda5/lib/python3.5",
    "PYTHONPATH": "/ext/anaconda5/lib/python3.5:/ext/anaconda5/lib/python3.5/site-packages"
   },
   "language": "python",
   "metadata": {
    "cocalc": {
     "description": "Python/R distribution for data science",
     "priority": 5,
     "url": "https://www.anaconda.com/distribution/"
    }
   },
   "name": "anaconda5"
  },
  "language_info": {
   "codemirror_mode": {
    "name": "ipython",
    "version": 3
   },
   "file_extension": ".py",
   "mimetype": "text/x-python",
   "name": "python",
   "nbconvert_exporter": "python",
   "pygments_lexer": "ipython3",
   "version": "3.6.7"
  }
 },
 "nbformat": 4,
 "nbformat_minor": 0
}