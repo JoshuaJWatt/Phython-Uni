{
 "cells": [
  {
   "cell_type": "markdown",
   "metadata": {
    "collapsed": false
   },
   "source": [
    "# Model solutions for Lab 9 (including relevant parts of Lab 8)"
   ]
  },
  {
   "cell_type": "markdown",
   "metadata": {
    "collapsed": false
   },
   "source": [
    "# Lab 8"
   ]
  },
  {
   "cell_type": "code",
   "execution_count": 5,
   "metadata": {
    "collapsed": false
   },
   "outputs": [
   ],
   "source": [
    "import numpy as np\n",
    "import pandas as pd\n",
    "from matplotlib import pyplot as plt\n",
    "import seaborn as sns"
   ]
  },
  {
   "cell_type": "code",
   "execution_count": 6,
   "metadata": {
    "collapsed": false
   },
   "outputs": [
    {
     "ename": "FileNotFoundError",
     "evalue": "[Errno 2] File b'signal_training.dat' does not exist: b'signal_training.dat'",
     "output_type": "error",
     "traceback": [
      "\u001b[0;31m---------------------------------------------------------------------------\u001b[0m",
      "\u001b[0;31mFileNotFoundError\u001b[0m                         Traceback (most recent call last)",
      "\u001b[0;32m<ipython-input-6-0b6540be62e1>\u001b[0m in \u001b[0;36m<module>\u001b[0;34m()\u001b[0m\n\u001b[0;32m----> 1\u001b[0;31m \u001b[0msignal\u001b[0m \u001b[0;34m=\u001b[0m \u001b[0mpd\u001b[0m\u001b[0;34m.\u001b[0m\u001b[0mread_csv\u001b[0m\u001b[0;34m(\u001b[0m\u001b[0;34m'signal_training.dat'\u001b[0m\u001b[0;34m,\u001b[0m \u001b[0msep\u001b[0m\u001b[0;34m=\u001b[0m\u001b[0;34m\" \"\u001b[0m\u001b[0;34m)\u001b[0m\u001b[0;34m\u001b[0m\u001b[0;34m\u001b[0m\u001b[0m\n\u001b[0m\u001b[1;32m      2\u001b[0m \u001b[0mbackgr\u001b[0m \u001b[0;34m=\u001b[0m \u001b[0mpd\u001b[0m\u001b[0;34m.\u001b[0m\u001b[0mread_csv\u001b[0m\u001b[0;34m(\u001b[0m\u001b[0;34m'background_training.dat'\u001b[0m\u001b[0;34m,\u001b[0m \u001b[0msep\u001b[0m\u001b[0;34m=\u001b[0m\u001b[0;34m\" \"\u001b[0m\u001b[0;34m)\u001b[0m\u001b[0;34m\u001b[0m\u001b[0;34m\u001b[0m\u001b[0m\n",
      "\u001b[0;32m/usr/local/lib/python3.6/dist-packages/pandas/io/parsers.py\u001b[0m in \u001b[0;36mparser_f\u001b[0;34m(filepath_or_buffer, sep, delimiter, header, names, index_col, usecols, squeeze, prefix, mangle_dupe_cols, dtype, engine, converters, true_values, false_values, skipinitialspace, skiprows, skipfooter, nrows, na_values, keep_default_na, na_filter, verbose, skip_blank_lines, parse_dates, infer_datetime_format, keep_date_col, date_parser, dayfirst, iterator, chunksize, compression, thousands, decimal, lineterminator, quotechar, quoting, doublequote, escapechar, comment, encoding, dialect, tupleize_cols, error_bad_lines, warn_bad_lines, delim_whitespace, low_memory, memory_map, float_precision)\u001b[0m\n\u001b[1;32m    700\u001b[0m                     skip_blank_lines=skip_blank_lines)\n\u001b[1;32m    701\u001b[0m \u001b[0;34m\u001b[0m\u001b[0m\n\u001b[0;32m--> 702\u001b[0;31m         \u001b[0;32mreturn\u001b[0m \u001b[0m_read\u001b[0m\u001b[0;34m(\u001b[0m\u001b[0mfilepath_or_buffer\u001b[0m\u001b[0;34m,\u001b[0m \u001b[0mkwds\u001b[0m\u001b[0;34m)\u001b[0m\u001b[0;34m\u001b[0m\u001b[0;34m\u001b[0m\u001b[0m\n\u001b[0m\u001b[1;32m    703\u001b[0m \u001b[0;34m\u001b[0m\u001b[0m\n\u001b[1;32m    704\u001b[0m     \u001b[0mparser_f\u001b[0m\u001b[0;34m.\u001b[0m\u001b[0m__name__\u001b[0m \u001b[0;34m=\u001b[0m \u001b[0mname\u001b[0m\u001b[0;34m\u001b[0m\u001b[0;34m\u001b[0m\u001b[0m\n",
      "\u001b[0;32m/usr/local/lib/python3.6/dist-packages/pandas/io/parsers.py\u001b[0m in \u001b[0;36m_read\u001b[0;34m(filepath_or_buffer, kwds)\u001b[0m\n\u001b[1;32m    427\u001b[0m \u001b[0;34m\u001b[0m\u001b[0m\n\u001b[1;32m    428\u001b[0m     \u001b[0;31m# Create the parser.\u001b[0m\u001b[0;34m\u001b[0m\u001b[0;34m\u001b[0m\u001b[0;34m\u001b[0m\u001b[0m\n\u001b[0;32m--> 429\u001b[0;31m     \u001b[0mparser\u001b[0m \u001b[0;34m=\u001b[0m \u001b[0mTextFileReader\u001b[0m\u001b[0;34m(\u001b[0m\u001b[0mfilepath_or_buffer\u001b[0m\u001b[0;34m,\u001b[0m \u001b[0;34m**\u001b[0m\u001b[0mkwds\u001b[0m\u001b[0;34m)\u001b[0m\u001b[0;34m\u001b[0m\u001b[0;34m\u001b[0m\u001b[0m\n\u001b[0m\u001b[1;32m    430\u001b[0m \u001b[0;34m\u001b[0m\u001b[0m\n\u001b[1;32m    431\u001b[0m     \u001b[0;32mif\u001b[0m \u001b[0mchunksize\u001b[0m \u001b[0;32mor\u001b[0m \u001b[0miterator\u001b[0m\u001b[0;34m:\u001b[0m\u001b[0;34m\u001b[0m\u001b[0;34m\u001b[0m\u001b[0m\n",
      "\u001b[0;32m/usr/local/lib/python3.6/dist-packages/pandas/io/parsers.py\u001b[0m in \u001b[0;36m__init__\u001b[0;34m(self, f, engine, **kwds)\u001b[0m\n\u001b[1;32m    893\u001b[0m             \u001b[0mself\u001b[0m\u001b[0;34m.\u001b[0m\u001b[0moptions\u001b[0m\u001b[0;34m[\u001b[0m\u001b[0;34m'has_index_names'\u001b[0m\u001b[0;34m]\u001b[0m \u001b[0;34m=\u001b[0m \u001b[0mkwds\u001b[0m\u001b[0;34m[\u001b[0m\u001b[0;34m'has_index_names'\u001b[0m\u001b[0;34m]\u001b[0m\u001b[0;34m\u001b[0m\u001b[0;34m\u001b[0m\u001b[0m\n\u001b[1;32m    894\u001b[0m \u001b[0;34m\u001b[0m\u001b[0m\n\u001b[0;32m--> 895\u001b[0;31m         \u001b[0mself\u001b[0m\u001b[0;34m.\u001b[0m\u001b[0m_make_engine\u001b[0m\u001b[0;34m(\u001b[0m\u001b[0mself\u001b[0m\u001b[0;34m.\u001b[0m\u001b[0mengine\u001b[0m\u001b[0;34m)\u001b[0m\u001b[0;34m\u001b[0m\u001b[0;34m\u001b[0m\u001b[0m\n\u001b[0m\u001b[1;32m    896\u001b[0m \u001b[0;34m\u001b[0m\u001b[0m\n\u001b[1;32m    897\u001b[0m     \u001b[0;32mdef\u001b[0m \u001b[0mclose\u001b[0m\u001b[0;34m(\u001b[0m\u001b[0mself\u001b[0m\u001b[0;34m)\u001b[0m\u001b[0;34m:\u001b[0m\u001b[0;34m\u001b[0m\u001b[0;34m\u001b[0m\u001b[0m\n",
      "\u001b[0;32m/usr/local/lib/python3.6/dist-packages/pandas/io/parsers.py\u001b[0m in \u001b[0;36m_make_engine\u001b[0;34m(self, engine)\u001b[0m\n\u001b[1;32m   1120\u001b[0m     \u001b[0;32mdef\u001b[0m \u001b[0m_make_engine\u001b[0m\u001b[0;34m(\u001b[0m\u001b[0mself\u001b[0m\u001b[0;34m,\u001b[0m \u001b[0mengine\u001b[0m\u001b[0;34m=\u001b[0m\u001b[0;34m'c'\u001b[0m\u001b[0;34m)\u001b[0m\u001b[0;34m:\u001b[0m\u001b[0;34m\u001b[0m\u001b[0;34m\u001b[0m\u001b[0m\n\u001b[1;32m   1121\u001b[0m         \u001b[0;32mif\u001b[0m \u001b[0mengine\u001b[0m \u001b[0;34m==\u001b[0m \u001b[0;34m'c'\u001b[0m\u001b[0;34m:\u001b[0m\u001b[0;34m\u001b[0m\u001b[0;34m\u001b[0m\u001b[0m\n\u001b[0;32m-> 1122\u001b[0;31m             \u001b[0mself\u001b[0m\u001b[0;34m.\u001b[0m\u001b[0m_engine\u001b[0m \u001b[0;34m=\u001b[0m \u001b[0mCParserWrapper\u001b[0m\u001b[0;34m(\u001b[0m\u001b[0mself\u001b[0m\u001b[0;34m.\u001b[0m\u001b[0mf\u001b[0m\u001b[0;34m,\u001b[0m \u001b[0;34m**\u001b[0m\u001b[0mself\u001b[0m\u001b[0;34m.\u001b[0m\u001b[0moptions\u001b[0m\u001b[0;34m)\u001b[0m\u001b[0;34m\u001b[0m\u001b[0;34m\u001b[0m\u001b[0m\n\u001b[0m\u001b[1;32m   1123\u001b[0m         \u001b[0;32melse\u001b[0m\u001b[0;34m:\u001b[0m\u001b[0;34m\u001b[0m\u001b[0;34m\u001b[0m\u001b[0m\n\u001b[1;32m   1124\u001b[0m             \u001b[0;32mif\u001b[0m \u001b[0mengine\u001b[0m \u001b[0;34m==\u001b[0m \u001b[0;34m'python'\u001b[0m\u001b[0;34m:\u001b[0m\u001b[0;34m\u001b[0m\u001b[0;34m\u001b[0m\u001b[0m\n",
      "\u001b[0;32m/usr/local/lib/python3.6/dist-packages/pandas/io/parsers.py\u001b[0m in \u001b[0;36m__init__\u001b[0;34m(self, src, **kwds)\u001b[0m\n\u001b[1;32m   1851\u001b[0m         \u001b[0mkwds\u001b[0m\u001b[0;34m[\u001b[0m\u001b[0;34m'usecols'\u001b[0m\u001b[0;34m]\u001b[0m \u001b[0;34m=\u001b[0m \u001b[0mself\u001b[0m\u001b[0;34m.\u001b[0m\u001b[0musecols\u001b[0m\u001b[0;34m\u001b[0m\u001b[0;34m\u001b[0m\u001b[0m\n\u001b[1;32m   1852\u001b[0m \u001b[0;34m\u001b[0m\u001b[0m\n\u001b[0;32m-> 1853\u001b[0;31m         \u001b[0mself\u001b[0m\u001b[0;34m.\u001b[0m\u001b[0m_reader\u001b[0m \u001b[0;34m=\u001b[0m \u001b[0mparsers\u001b[0m\u001b[0;34m.\u001b[0m\u001b[0mTextReader\u001b[0m\u001b[0;34m(\u001b[0m\u001b[0msrc\u001b[0m\u001b[0;34m,\u001b[0m \u001b[0;34m**\u001b[0m\u001b[0mkwds\u001b[0m\u001b[0;34m)\u001b[0m\u001b[0;34m\u001b[0m\u001b[0;34m\u001b[0m\u001b[0m\n\u001b[0m\u001b[1;32m   1854\u001b[0m         \u001b[0mself\u001b[0m\u001b[0;34m.\u001b[0m\u001b[0munnamed_cols\u001b[0m \u001b[0;34m=\u001b[0m \u001b[0mself\u001b[0m\u001b[0;34m.\u001b[0m\u001b[0m_reader\u001b[0m\u001b[0;34m.\u001b[0m\u001b[0munnamed_cols\u001b[0m\u001b[0;34m\u001b[0m\u001b[0;34m\u001b[0m\u001b[0m\n\u001b[1;32m   1855\u001b[0m \u001b[0;34m\u001b[0m\u001b[0m\n",
      "\u001b[0;32mpandas/_libs/parsers.pyx\u001b[0m in \u001b[0;36mpandas._libs.parsers.TextReader.__cinit__\u001b[0;34m()\u001b[0m\n",
      "\u001b[0;32mpandas/_libs/parsers.pyx\u001b[0m in \u001b[0;36mpandas._libs.parsers.TextReader._setup_parser_source\u001b[0;34m()\u001b[0m\n",
      "\u001b[0;31mFileNotFoundError\u001b[0m: [Errno 2] File b'signal_training.dat' does not exist: b'signal_training.dat'"
     ]
    }
   ],
   "source": [
    "signal = pd.read_csv('signal_training.dat', sep=\" \")\n",
    "backgr = pd.read_csv('background_training.dat', sep=\" \")"
   ]
  },
  {
   "cell_type": "code",
   "execution_count": 4,
   "metadata": {
    "collapsed": false
   },
   "outputs": [
    {
     "ename": "NameError",
     "evalue": "name 'signal' is not defined",
     "output_type": "error",
     "traceback": [
      "\u001b[0;31m---------------------------------------------------------------------------\u001b[0m",
      "\u001b[0;31mNameError\u001b[0m                                 Traceback (most recent call last)",
      "\u001b[0;32m<ipython-input-4-f3a467d1c765>\u001b[0m in \u001b[0;36m<module>\u001b[0;34m()\u001b[0m\n\u001b[1;32m      1\u001b[0m \u001b[0;31m# All operations will be easier if we concatenate signal and background into one dataframe, and use signal_true to distinguish them.\u001b[0m\u001b[0;34m\u001b[0m\u001b[0;34m\u001b[0m\u001b[0;34m\u001b[0m\u001b[0m\n\u001b[0;32m----> 2\u001b[0;31m \u001b[0mdf\u001b[0m \u001b[0;34m=\u001b[0m \u001b[0mpd\u001b[0m\u001b[0;34m.\u001b[0m\u001b[0mconcat\u001b[0m\u001b[0;34m(\u001b[0m\u001b[0;34m(\u001b[0m\u001b[0msignal\u001b[0m\u001b[0;34m,\u001b[0m\u001b[0mbackgr\u001b[0m\u001b[0;34m)\u001b[0m\u001b[0;34m)\u001b[0m\u001b[0;34m.\u001b[0m\u001b[0mdrop\u001b[0m\u001b[0;34m(\u001b[0m\u001b[0mcolumns\u001b[0m\u001b[0;34m=\u001b[0m\u001b[0;34m[\u001b[0m\u001b[0;34m'event_true'\u001b[0m\u001b[0;34m,\u001b[0m\u001b[0;34m'reaction_true'\u001b[0m\u001b[0;34m]\u001b[0m\u001b[0;34m)\u001b[0m\u001b[0;34m.\u001b[0m\u001b[0msample\u001b[0m\u001b[0;34m(\u001b[0m\u001b[0mfrac\u001b[0m\u001b[0;34m=\u001b[0m\u001b[0;36m1\u001b[0m\u001b[0;34m)\u001b[0m\u001b[0;34m.\u001b[0m\u001b[0mreset_index\u001b[0m\u001b[0;34m(\u001b[0m\u001b[0mdrop\u001b[0m\u001b[0;34m=\u001b[0m\u001b[0;36m1\u001b[0m\u001b[0;34m)\u001b[0m\u001b[0;34m\u001b[0m\u001b[0;34m\u001b[0m\u001b[0m\n\u001b[0m\u001b[1;32m      3\u001b[0m \u001b[0;31m# If we replace all -999.9 with np.NaN, pandas automatically excludes them.\u001b[0m\u001b[0;34m\u001b[0m\u001b[0;34m\u001b[0m\u001b[0;34m\u001b[0m\u001b[0m\n\u001b[1;32m      4\u001b[0m \u001b[0mdf\u001b[0m \u001b[0;34m=\u001b[0m \u001b[0mdf\u001b[0m\u001b[0;34m.\u001b[0m\u001b[0mreplace\u001b[0m\u001b[0;34m(\u001b[0m\u001b[0;34m-\u001b[0m\u001b[0;36m999.9\u001b[0m\u001b[0;34m,\u001b[0m\u001b[0mnp\u001b[0m\u001b[0;34m.\u001b[0m\u001b[0mNaN\u001b[0m\u001b[0;34m)\u001b[0m\u001b[0;34m\u001b[0m\u001b[0;34m\u001b[0m\u001b[0m\n",
      "\u001b[0;31mNameError\u001b[0m: name 'signal' is not defined"
     ]
    }
   ],
   "source": [
    "# All operations will be easier if we concatenate signal and background into one dataframe, and use signal_true to distinguish them.\n",
    "df = pd.concat((signal,backgr)).drop(columns=['event_true','reaction_true']).sample(frac=1).reset_index(drop=1)\n",
    "# If we replace all -999.9 with np.NaN, pandas automatically excludes them.\n",
    "df = df.replace(-999.9,np.NaN)"
   ]
  },
  {
   "cell_type": "code",
   "execution_count": 0,
   "metadata": {
    "collapsed": false
   },
   "outputs": [
   ],
   "source": [
    "def metric(df,var,val,lr,df_kept=None):\n",
    "    '''\n",
    "    This calculates the metric (eff*pur) of the proportion of kept states.\n",
    "    This can be done in 2 ways. We can either pass a dataframe to cut, and \n",
    "    the variable and value to cut on, or pass the kept frame directly.\n",
    "    '''\n",
    "    if type(df_kept)==type(None):\n",
    "        if lr.lower()=='r':\n",
    "            df_kept = df[df[var]>val]\n",
    "        if lr.lower()=='l':\n",
    "            df_kept = df[df[var]<val]\n",
    "    \n",
    "    total_kept   = len(df_kept) \n",
    "    signal_kept  = len(df_kept[df_kept['signal_true']==1])\n",
    "    total_signal = len(signal)\n",
    "    eff = signal_kept/total_signal\n",
    "    \n",
    "    if total_kept>0:\n",
    "        pur = signal_kept/total_kept\n",
    "    else:\n",
    "        pur = 0\n",
    "    return eff*pur\n",
    "\n",
    "def metricCurves(df,var):\n",
    "    '''\n",
    "    This is used anywhere we need to get either the value of metric at many\n",
    "    cut points, or find an optimum cut point. So it is used in Ex. 4 and 5.\n",
    "    '''\n",
    "    nVals = 50\n",
    "    varSpace = np.linspace(df[var].min(),df[var].max(),nVals)\n",
    "    Louts = np.zeros(nVals)\n",
    "    Routs = np.zeros(nVals)\n",
    "    for i,v in enumerate(varSpace):\n",
    "        Louts[i] = metric(df,var,v,'l')\n",
    "        Routs[i] = metric(df,var,v,'r')\n",
    "    LBestIndex = np.argmax(Louts)\n",
    "    RBestIndex = np.argmax(Routs)\n",
    "    LBest = Louts[LBestIndex]\n",
    "    RBest = Routs[RBestIndex]\n",
    "    if LBest>RBest:\n",
    "        bestMetric = LBest\n",
    "        bestCut = varSpace[LBestIndex] \n",
    "        bestDir = 'L'\n",
    "        bestOuts = Louts\n",
    "    else:\n",
    "        bestMetric = RBest\n",
    "        bestCut = varSpace[RBestIndex]\n",
    "        bestDir = 'R'\n",
    "        bestOuts = Routs\n",
    "    return bestMetric, bestCut, bestDir, varSpace, bestOuts"
   ]
  },
  {
   "cell_type": "code",
   "execution_count": 0,
   "metadata": {
    "collapsed": false
   },
   "outputs": [
   ],
   "source": [
    "# Here we create modelTable, which is the best metrics on the training data.\n",
    "\n",
    "names   = []\n",
    "metrics = []\n",
    "cuts    = []\n",
    "dirs    = []\n",
    "\n",
    "varibs = list(df)[1:]\n",
    "for var in varibs:\n",
    "    names.append(var)\n",
    "    bestMetric, bestCut, bestDir, varSpace, bestOuts = metricCurves(df,var)\n",
    "    metrics.append(bestMetric)\n",
    "    cuts.append(bestCut)\n",
    "    dirs.append(bestDir)\n",
    "\n",
    "modelTable = pd.DataFrame({\n",
    "    'Name':names,\n",
    "    'Metric value':metrics,\n",
    "    'Best cut':cuts,\n",
    "    'Directions':dirs\n",
    "})\n",
    "modelTable = modelTable[['Name','Metric value','Best cut','Directions']] # Enforce a column order."
   ]
  },
  {
   "cell_type": "code",
   "execution_count": 0,
   "metadata": {
    "collapsed": false
   },
   "outputs": [
   ],
   "source": [
    "display(modelTable.sort_values('Metric value',ascending=False).reset_index(drop=1))"
   ]
  },
  {
   "cell_type": "markdown",
   "metadata": {
    "collapsed": false
   },
   "source": [
    "## Lab 9"
   ]
  },
  {
   "cell_type": "markdown",
   "metadata": {
    "collapsed": false
   },
   "source": [
    "### 1. Test data"
   ]
  },
  {
   "cell_type": "code",
   "execution_count": 0,
   "metadata": {
    "collapsed": false
   },
   "outputs": [
   ],
   "source": [
    "# Perform the same cleaning operations on the test data as on training.\n",
    "\n",
    "signal_test = pd.read_csv('signal_data.dat', sep=\" \")\n",
    "backgr_test = pd.read_csv('background_data.dat', sep=\" \")\n",
    "df_test = pd.concat(\n",
    "    (signal_test,backgr_test)\n",
    ").drop(columns=['event_true','reaction_true']).sample(frac=1).reset_index(drop=1)\n",
    "df_test = df_test.replace(-999.9,np.NaN)"
   ]
  },
  {
   "cell_type": "code",
   "execution_count": 0,
   "metadata": {
    "collapsed": false
   },
   "outputs": [
   ],
   "source": [
    "def splitData(df,var,modelTable=None,cut=None,direc=None):\n",
    "    '''\n",
    "    Used for splitting test data on an existing model (represented by modelTable).\n",
    "    '''\n",
    "    if type(cut)==type(None):\n",
    "        cut   = modelTable.loc[modelTable['Name']==var, 'Best cut'].values[0]\n",
    "    if type(direc)==type(None):\n",
    "        direc = modelTable.loc[modelTable['Name']==var, 'Directions'].values[0]\n",
    "    if direc=='L':\n",
    "        return df[df[var]<cut]\n",
    "    if direc=='R':\n",
    "        return df[df[var]>cut]"
   ]
  },
  {
   "cell_type": "code",
   "execution_count": 0,
   "metadata": {
    "collapsed": false
   },
   "outputs": [
   ],
   "source": [
    "test_mets = []\n",
    "for var in varibs:\n",
    "    df_kept = splitData(df_test,var,modelTable)\n",
    "    test_mets.append(\n",
    "        metric(df_test,var=None,val=None,lr=None,df_kept=df_kept)\n",
    "    )\n",
    "modelTable['Test metrics'] = test_mets"
   ]
  },
  {
   "cell_type": "code",
   "execution_count": 0,
   "metadata": {
    "collapsed": false
   },
   "outputs": [
   ],
   "source": [
    "display(modelTable.sort_values('Metric value',ascending=False).reset_index(drop=1))"
   ]
  },
  {
   "cell_type": "markdown",
   "metadata": {
    "collapsed": false
   },
   "source": [
    "### 2. Combined splits"
   ]
  },
  {
   "cell_type": "code",
   "execution_count": 0,
   "metadata": {
    "collapsed": false
   },
   "outputs": [
   ],
   "source": [
    "def applyNCombined(df,n,modelTable):\n",
    "    '''\n",
    "    This takes the top n variables, and iteratively cuts them. It produces\n",
    "    df_kept by splitting the previous df_kept, and then evaluates the metric\n",
    "    at each number of variables.\n",
    "    '''\n",
    "    outs = []\n",
    "    topVars = modelTable.sort_values('Metric value',ascending=False)['Name'].values\n",
    "    df_kept = df.copy()\n",
    "    for var in topVars[:n+1]:\n",
    "        df_kept = splitData(df_kept,var,modelTable)\n",
    "        outs.append(metric(df_test,var,val=None,lr=None,df_kept=df_kept))\n",
    "    return outs"
   ]
  },
  {
   "cell_type": "code",
   "execution_count": 0,
   "metadata": {
    "collapsed": false
   },
   "outputs": [
   ],
   "source": [
    "combinedMets = applyNCombined(df_test,6,modelTable)\n",
    "for i,c in enumerate(combinedMets):\n",
    "    print('Combined {} best variables   ---   Metric = {:2.3f}'.format(i+1,c))"
   ]
  },
  {
   "cell_type": "markdown",
   "metadata": {
    "collapsed": false
   },
   "source": [
    "Combining variables without re-optimising results in a worse metric."
   ]
  },
  {
   "cell_type": "markdown",
   "metadata": {
    "collapsed": false
   },
   "source": [
    "### 3. Plots"
   ]
  },
  {
   "cell_type": "code",
   "execution_count": 0,
   "metadata": {
    "collapsed": false
   },
   "outputs": [
   ],
   "source": [
    "topVars = list(modelTable.sort_values('Metric value',ascending=False)['Name'].values)\n",
    "sns.pairplot(data=df.sample(frac=1)[:int(len(df)*0.1)], # Take a sample of points for fast and clear plotting.\n",
    "             x_vars=topVars[:6],\n",
    "             y_vars=topVars[:6],\n",
    "             hue='signal_true',\n",
    "             plot_kws={'alpha': 0.1})"
   ]
  },
  {
   "cell_type": "markdown",
   "metadata": {
    "collapsed": false
   },
   "source": [
    "### 3+. New variable "
   ]
  },
  {
   "cell_type": "markdown",
   "metadata": {
    "collapsed": false
   },
   "source": [
    "We see effpullx is positively correlated with effpully for signals, and negatively for backgrounds.\n",
    "Therefore, since effpullx =  m * (effpully+1) - 1, we should construct a new variable,\n",
    "\n",
    "effpulld = np.sign((effpullx+1)/(effpully+1))/2 + 1/2\n",
    "\n",
    "Then cutting on this new variable *alone* would get an accuracy of 92% and a metric of 0.86. See below..."
   ]
  },
  {
   "cell_type": "code",
   "execution_count": 0,
   "metadata": {
    "collapsed": false
   },
   "outputs": [
   ],
   "source": [
    "from sklearn.metrics import accuracy_score as accs\n",
    "dfbonus = df.copy()\n",
    "dfbonus['effpulld'] = np.sign( (dfbonus['effpully']+1) / (dfbonus['effpullx']+1) )/2 + 0.5\n",
    "print('Accuracy = {:.2f}'.format(accs(dfbonus['effpulld'],dfbonus['signal_true'])))\n",
    "print('Metric   = {:.2f}'.format(\n",
    "    np.dot(dfbonus['effpulld'],dfbonus['signal_true'])**2/ (dfbonus['effpulld'].sum() * dfbonus['signal_true'].sum()) )) "
   ]
  },
  {
   "cell_type": "markdown",
   "metadata": {
    "collapsed": false
   },
   "source": [
    "### 4. 2D plot\n"
   ]
  },
  {
   "cell_type": "code",
   "execution_count": 0,
   "metadata": {
    "collapsed": false
   },
   "outputs": [
   ],
   "source": [
    "def metric2D(df,var1,var2,modelTable):\n",
    "    '''\n",
    "    We loop through all cut values for effpullx and effpully, and perform a contourf plot.\n",
    "    '''\n",
    "    nVals = 50\n",
    "    varSpace1 = np.linspace(df[var1].min(),df[var1].max(),nVals)\n",
    "    varSpace2 = np.linspace(df[var2].min(),df[var2].max(),nVals)\n",
    "    dir1 = modelTable.loc[modelTable['Name']==var1, 'Directions'].values[0]\n",
    "    dir2 = modelTable.loc[modelTable['Name']==var2, 'Directions'].values[0]\n",
    "    \n",
    "    outs = np.zeros((nVals,nVals))\n",
    "    for i,val1 in enumerate(varSpace1):\n",
    "        for j,val2 in enumerate(varSpace2):\n",
    "            df_kept = splitData(\n",
    "                splitData(\n",
    "                    df,\n",
    "                    var1,modelTable=None,cut=val1,direc=dir1\n",
    "                ),\n",
    "                var2,modelTable=None,cut=val2,direc=dir2\n",
    "            )\n",
    "            outs[i,j] = metric(df_test,var=None,val=None,lr=None,df_kept=df_kept)\n",
    "    return varSpace1,varSpace2, outs"
   ]
  },
  {
   "cell_type": "code",
   "execution_count": 0,
   "metadata": {
    "collapsed": false
   },
   "outputs": [
   ],
   "source": [
    "met2 = metric2D(df,'effpullx','effpully',modelTable)\n",
    "plt.contourf(*met2,50)\n",
    "plt.xlabel('effpullx')\n",
    "plt.ylabel('effpully')"
   ]
  },
  {
   "cell_type": "markdown",
   "metadata": {
    "collapsed": false
   },
   "source": [
    "### 5. Decision tree"
   ]
  },
  {
   "cell_type": "code",
   "execution_count": 0,
   "metadata": {
    "collapsed": false
   },
   "outputs": [
   ],
   "source": [
    "def decTree(df,depth):\n",
    "    '''\n",
    "    A decision tree is crucially different from exercise 2. In a decision tree, we have to \n",
    "    re-optimise the cut variable and cut position after each cut. If this is not done, the\n",
    "    code is effectively the same as Ex 2.\n",
    "    '''\n",
    "    print('Level = ',end='')\n",
    "    mets    = []\n",
    "    varOuts = []\n",
    "    df_kept = df.copy()\n",
    "    for level in range(depth):\n",
    "        print('{}... '.format(level+1),end='')\n",
    "        bestMetric = 0\n",
    "        bestCut = 0\n",
    "        bestVar = ''\n",
    "        bestDir = ''\n",
    "        for var in varibs:\n",
    "            metric, cut, direc, varSpace, bestOuts = metricCurves(df_kept,var)\n",
    "            if metric>bestMetric:\n",
    "                bestMetric = metric ; bestCut = cut ; bestVar = var ; bestDir = direc\n",
    "        mets.append(bestMetric)\n",
    "        varOuts.append(bestVar)\n",
    "        df_kept = splitData(df_kept,bestVar,modelTable=None,cut=bestCut,direc=bestDir)\n",
    "    return mets,varOuts"
   ]
  },
  {
   "cell_type": "code",
   "execution_count": 0,
   "metadata": {
    "collapsed": false
   },
   "outputs": [
   ],
   "source": [
    "mets,varOuts = decTree(df_temp,5)\n",
    "print('\\nVariables cut on... = ', varOuts)"
   ]
  },
  {
   "cell_type": "code",
   "execution_count": 0,
   "metadata": {
    "collapsed": false
   },
   "outputs": [
   ],
   "source": [
    "plt.plot(np.arange(1,len(mets)+1),mets)\n",
    "plt.xlabel('Tree depth')\n",
    "plt.ylabel('Metric')"
   ]
  }
 ],
 "metadata": {
  "kernelspec": {
   "display_name": "Python 3 (Ubuntu Linux)",
   "language": "python",
   "metadata": {
    "cocalc": {
     "description": "Python 3 programming language",
     "priority": 100,
     "url": "https://www.python.org/"
    }
   },
   "name": "python3"
  },
  "language_info": {
   "codemirror_mode": {
    "name": "ipython",
    "version": 3
   },
   "file_extension": ".py",
   "mimetype": "text/x-python",
   "name": "python",
   "nbconvert_exporter": "python",
   "pygments_lexer": "ipython3",
   "version": "3.6.7"
  }
 },
 "nbformat": 4,
 "nbformat_minor": 0
}