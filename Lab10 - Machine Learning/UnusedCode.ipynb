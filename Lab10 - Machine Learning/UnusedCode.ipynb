{
 "cells": [
  {
   "cell_type": "code",
   "execution_count": 0,
   "metadata": {
    "collapsed": false
   },
   "outputs": [
   ],
   "source": [
    "#### This Doesn't Work ####\n",
    "\n",
    "# effpullx-& effpully are the 2 best vars\n",
    "# We need to prepare the data sets, so they are in the form required by this NN\n",
    "# Test Data\n",
    "epxsigdat = np.array(sigframedat['effpullx'])\n",
    "epxbacdat = np.array(bacframedat['effpullx'])\n",
    "\n",
    "epysigdat = np.array(sigframedat['effpully'])\n",
    "epybacdat = np.array(bacframedat['effpully'])\n",
    "\n",
    "# Training Data\n",
    "epxsigtr = np.array(sigframetr['effpullx'])\n",
    "epxbactr = np.array(bacframetr['effpullx'])\n",
    "\n",
    "epysigtr = np.array(sigframetr['effpully'])\n",
    "epybactr = np.array(bacframetr['effpully'])\n",
    "\n",
    "# Attempt to automate classifications\n",
    "# def classify_data(data, classification = [0,1]):\n",
    "#     if classification == 1:\n",
    "#         classeddata = data.append(np.ones(len(data)))\n",
    "#     elif classification == 0:\n",
    "#         classeddata = data.append(np.zeros(len(data)))\n",
    "#     return(classeddata)\n",
    "\n",
    "\n",
    "# Defining that a 0 classification is background, 1 is the signal. And creating classification lists for both test and training data\n",
    "#         TODO: Automate /generalise this (ie, make a function)\n",
    "bacclassdat = []\n",
    "sigclassdat = []\n",
    "bacclasstr = []\n",
    "sigclasstr = []\n",
    "\n",
    "for i in range(len(epxsigdat)):\n",
    "    sigclassdat.append(1)\n",
    "    bacclassdat.append(0)\n",
    "\n",
    "for i in range(len(epxsigtr)):\n",
    "    sigclasstr.append(1)\n",
    "    bacclasstr.append(0)\n",
    "\n",
    "# Zipping this data:\n",
    "# The \"...data\" lists are our 'X' inputs, and the \"...class\" lists are our y inputs\n",
    "# Test data\n",
    "# We need to remember which way around these are, as our classifications need to be the same way around (so that everything lines up nicely)\n",
    "epxtestdata = zip(epxsigdat, epxbacdat)\n",
    "testclass = zip(sigclassdat, bacclassdat)\n",
    "\n",
    "epxtraindata = zip(epxsigtr, epxbactr)\n",
    "trainclass = zip(sigclasstr, bacclasstr)\n",
    "\n",
    "# I'm fairly sure we can reuse the classifications for the epy data\n",
    "epytestdata = zip(epysigdat, epybacdat)\n",
    "epytraindata = zip(epysigtr, epybactr)\n",
    "\n",
    "\n",
    "# Building a model\n",
    "X, y = epxtraindata, trainclass\n",
    "\n",
    "# Put this directly after wherever we set X\n",
    "# num_examples = len(X)\n",
    "\n",
    "model = build_model(3, print_loss=True,num_passes=500)\n",
    "plot_decision_boundary(lambda x: predict(model, x))\n",
    "plt.title(\"Decision Boundary for hidden layer size 3\")\n",
    "print(\"Accuracy\",accuracy(lambda x: predict(model,x)) )"
   ]
  },
  {
   "cell_type": "code",
   "execution_count": 0,
   "metadata": {
    "collapsed": false
   },
   "outputs": [
   ],
   "source": [
    "epxtest = testdata['effpullx']\n",
    "epytest = testdata['effpully']\n",
    "print(epxtest)\n",
    "plt.scatter(epxtest, epytest)"
   ]
  }
 ],
 "metadata": {
  "kernelspec": {
   "display_name": "Python 3 (Ubuntu Linux)",
   "language": "python",
   "metadata": {
    "cocalc": {
     "description": "Python 3 programming language",
     "priority": 100,
     "url": "https://www.python.org/"
    }
   },
   "name": "python3"
  },
  "language_info": {
   "codemirror_mode": {
    "name": "ipython",
    "version": 3
   },
   "file_extension": ".py",
   "mimetype": "text/x-python",
   "name": "python",
   "nbconvert_exporter": "python",
   "pygments_lexer": "ipython3",
   "version": "3.6.7"
  }
 },
 "nbformat": 4,
 "nbformat_minor": 0
}