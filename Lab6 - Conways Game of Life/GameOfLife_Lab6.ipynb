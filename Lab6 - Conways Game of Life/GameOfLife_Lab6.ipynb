{
 "cells": [
  {
   "cell_type": "markdown",
   "metadata": {
    "collapsed": false
   },
   "source": [
    "# Project 6 (part a):\n",
    "\n",
    "## The Game of Life\n",
    "The Game of Life is a cellular automaton devised by the British mathematician John Horton Conway in 1970.<img align=\"right\" src=\"Grid.png\" HEIGHT=\"400\" WIDTH=\"266\"> \n",
    "\n",
    "The \"game\" is a zero-player game, meaning that its evolution is determined by its initial state, requiring no further input. One interacts with the Game of Life by creating an initial configuration and observing how it evolves.\n",
    "\n",
    "The universe of the Game of Life is an infinite two-dimensional array of square cells, each of which is in one of two possible states:\n",
    "\n",
    "- alive: cell has value = 1\n",
    "- dead: cell has value = 0\n",
    "\n",
    "Every cell interacts with its eight neighbours, which are the cells that are horizontally, vertically, or diagonally adjacent. See Figure 1.\n",
    "\n",
    "## Rules of the game:\n",
    "\n",
    "At each step in time (also called \"tick\"), the following transitions occur to all cells simultaneously:\n",
    "\n",
    "1. Any live cell with fewer than two live neighbours dies, as if caused by underpopulation.\n",
    "\n",
    "2. Any live cell with two or three live neighbours lives on to the next generation.\n",
    "\n",
    "3. Any live cell with more than three live neighbours dies, as if by overpopulation.\n",
    "\n",
    "4. Any dead cell with exactly three live neighbours becomes a live cell, as if by reproduction."
   ]
  },
  {
   "cell_type": "markdown",
   "metadata": {
    "collapsed": false
   },
   "source": [
    "## 1: Study  of ``still`` ``lifes`` and ``oscillators``:  [3 marks]\n",
    "\n",
    "For the following shapes from the data folder:\n",
    "- Loaf (\"data/Loaf.txt\")\n",
    "- Pulsar (\"data/Pulsar.txt\")\n",
    "- Pentadecathlon (\"data/Pentadecathlon.txt\")\n",
    "\n",
    "Find the number of live cells and the $r_{max}$  as a function of time (number of steps).<br>\n",
    "\n",
    "Can you determine the period of the above 3 shapes from these plots?<br>\n",
    "Hint: One of the shapes does not change at all, the other 2 return back to their original configuration after certain steps.\n",
    "\n",
    "$r_{max}$ is defined as:<br>\n",
    "- Given N live cells at positions  ($i$,$j$) \n",
    "- Calculate the population \"barycenter\" ($center_{i}$,$center_{j}$), where $center_{i} =\\frac{\\sum_{i}^{N} i }{N}$ and $center_{j} =\\frac{\\sum_{j}^{N} j }{N}$\n",
    "- Define the distance : $r_{i,j}= \\sqrt{(i-center_i)^2+(j-center_j)^2}$ \n",
    "- $r_{max}$ is the maximum of all the $r_{i,j}$ i.e the distance of the furthest cell from the \"barycenter\" of the population."
   ]
  },
  {
   "cell_type": "markdown",
   "metadata": {
    "collapsed": false
   },
   "source": [
    "## 2: Simple animations :  [3 marks]\n",
    "\n",
    "For the following shapes from the data folder:\n",
    "- Blinker (\"data/Blinker.txt\")\n",
    "- Pulsar (\"data/Pulsar.txt\")\n",
    "- Pentadecathlon (\"data/Pentadecathlon.txt\")\n",
    "\n",
    "Produce animations for each one. \n",
    "\n",
    "Hint : Use the results of the previous exercise in order to determine the minimum number of frames where applicable (typically you will not need more the 20 frames or so)."
   ]
  },
  {
   "cell_type": "markdown",
   "metadata": {
    "collapsed": false
   },
   "source": [
    "## 3: Replicator :  [4 marks]\n",
    "\n",
    "Conway's Life is classified as following the $\\textbf{B}$3/$\\textbf{S}$23 rule.\n",
    "\n",
    "Specifically a cell:\n",
    "- is $\\textbf{B}$orn if it has exactly 3 neighbours\n",
    "- $\\textbf{S}$urvives if it has 2 or 3 living neighbours \n",
    "- it dies otherwise.\n",
    "\n",
    "Another member in the family of \"Life\" cellular automata is ``HighLife`` that follow the $\\textbf{B}$36/$\\textbf{S}$23 rule.\n",
    "\n",
    "A cell:\n",
    "- is $\\textbf{B}$orn if it has 3 or 6 neighbours\n",
    "- $\\textbf{S}$urvives if it has 2 or 3 living neighbours \n",
    "- it dies otherwise.\n",
    "\n",
    "\n",
    "Following the HighLife rules and  employing the Replicator pattern present in the data folder (\"data/Replicator.txt\").\n",
    "\n",
    "1. Evolve it for 36 generations.\n",
    "2. Produce an animation of the above 36 frames showing the system evolution\n",
    "3. Plot the Number of cells versus time\n",
    "4. Plot the  $r_{max}$ as a function of time\n",
    "5. Can you see why it is called a \"Replicator\"?"
   ]
  }
 ],
 "metadata": {
  "kernelspec": {
   "display_name": "Python 3 (Anaconda 5)",
   "language": "python",
   "name": "anaconda5"
  },
  "language_info": {
   "codemirror_mode": {
    "name": "ipython",
    "version": 3
   },
   "file_extension": ".py",
   "mimetype": "text/x-python",
   "name": "python",
   "nbconvert_exporter": "python",
   "pygments_lexer": "ipython3",
   "version": "3.6.6"
  }
 },
 "nbformat": 4,
 "nbformat_minor": 0
}