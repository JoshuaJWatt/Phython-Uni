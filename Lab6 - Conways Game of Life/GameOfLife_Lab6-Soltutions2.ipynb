{
 "cells": [
  {
   "cell_type": "markdown",
   "metadata": {
    "collapsed": false
   },
   "source": [
    "# Project 6 (part a):\n",
    "\n",
    "## The Game of Life\n",
    "The Game of Life is a cellular automaton devised by the British mathematician John Horton Conway in 1970.<img align=\"right\" src=\"Grid.png\" HEIGHT=\"400\" WIDTH=\"266\"> \n",
    "\n",
    "The \"game\" is a zero-player game, meaning that its evolution is determined by its initial state, requiring no further input. One interacts with the Game of Life by creating an initial configuration and observing how it evolves.\n",
    "\n",
    "The universe of the Game of Life is an infinite two-dimensional array of square cells, each of which is in one of two possible states:\n",
    "\n",
    "- alive: cell has value = 1\n",
    "- dead: cell has value = 0\n",
    "\n",
    "Every cell interacts with its eight neighbours, which are the cells that are horizontally, vertically, or diagonally adjacent. See Figure 1.\n",
    "\n",
    "## Rules of the game:\n",
    "\n",
    "At each step in time (also called \"tick\"), the following transitions occur to all cells simultaneously:\n",
    "\n",
    "1. Any live cell with fewer than two live neighbours dies, as if caused by underpopulation.\n",
    "\n",
    "2. Any live cell with two or three live neighbours lives on to the next generation.\n",
    "\n",
    "3. Any live cell with more than three live neighbours dies, as if by overpopulation.\n",
    "\n",
    "4. Any dead cell with exactly three live neighbours becomes a live cell, as if by reproduction."
   ]
  },
  {
   "cell_type": "code",
   "execution_count": 1,
   "metadata": {
    "collapsed": false
   },
   "outputs": [
   ],
   "source": [
    "# Weekly functions (until I build a module to import) & imports\n",
    "import numpy as np\n",
    "import matplotlib\n",
    "import matplotlib.pyplot as plt\n",
    "import matplotlib.animation as animation\n",
    "from IPython.display import HTML\n",
    "plt.rcParams['figure.figsize'] = 6, 4\n",
    "plt.rcParams[\"animation.html\"] = \"html5\"\n",
    "\n",
    "def GeneralListPlot(XList, YList, xlabel='X', ylabel='Y'):\n",
    "    \"\"\"A general function to plot 2 lists of floats, and label their axes\"\"\"\n",
    "    plt.plot(XList, YList)\n",
    "    plt.xlabel(xlabel)\n",
    "    plt.ylabel(ylabel)\n",
    "    plt.show()\n",
    "    return()"
   ]
  },
  {
   "cell_type": "code",
   "execution_count": 2,
   "metadata": {
    "collapsed": false
   },
   "outputs": [
   ],
   "source": [
    "class Game:\n",
    "    \n",
    "    def __init__ (self, file, S = [2,3], B = [3]): # Where S & B are survival and birth criteria\n",
    "        self.B = B\n",
    "        self.S = S\n",
    "        self.world = np.loadtxt(file, dtype=np.int8)\n",
    "        self.frame = 0 #Frame number/number of frames since start\n",
    "        #Save the initial world, helps find the period\n",
    "        self.initworld = self.world.copy()\n",
    "        \n",
    "    def __next__(self):\n",
    "        \"\"\"Generates the next frame of the game\"\"\"\n",
    "        x_dim, y_dim = self.world.shape\n",
    "        arr_next = np.zeros([x_dim, y_dim], dtype=np.int8)\n",
    "        for i in range (x_dim):\n",
    "            for j in range (y_dim):\n",
    "                SurrCh = self.surrounds(i,j)\n",
    "                if SurrCh in self.S and self.world[i,j] == 1:\n",
    "                    arr_next[i,j] = self.world[i,j]\n",
    "                elif SurrCh in self.B and self.world[i,j] == 0:\n",
    "                    arr_next[i,j] = 1\n",
    "                else:\n",
    "                    arr_next[i,j] = 0 # <= to_unsigned(0,0);\n",
    "        self.world = arr_next.reshape((x_dim, y_dim))\n",
    "        self.frame += 1\n",
    "        \n",
    "    def living(self):\n",
    "        \"\"\"Returns the number of currently living cells in the world\"\"\"\n",
    "        N = sum(self.world.flatten())\n",
    "        return(N)\n",
    "    \n",
    "    def surrounds(self, x, y):\n",
    "        \"\"\"Checks the surroundings of a cell and returns the number of lives cells around it\"\"\"\n",
    "        arr = []\n",
    "        for i in range (-1, 2):\n",
    "            for j in range (-1, 2):\n",
    "                try:\n",
    "                    arr.append(self.world[x+i,y+j])\n",
    "                except IndexError:\n",
    "                    arr.append(0)\n",
    "        sum_ = sum(arr) - self.world[x,y]\n",
    "        return(sum_)\n",
    "        \n",
    "    def livlocs(self):\n",
    "        \"\"\"Returns the locations of all the living cells in the world\"\"\"\n",
    "        x, y = np.where(self.world == 1)\n",
    "        return(x, y)\n",
    "    \n",
    "    def BCentre(self, DEBUG = 0):\n",
    "        \"\"\"Finds the Barycentre of the living cells of the board\"\"\"\n",
    "        x, y = self.livlocs()\n",
    "        xcent = sum(x)/self.living()\n",
    "        ycent = sum(y)/self.living()\n",
    "        if DEBUG == 1:\n",
    "            print(xcent, ycent)\n",
    "        return(xcent, ycent)\n",
    "    \n",
    "    def r_max(self, DEBUG = 0):\n",
    "        \"\"\"Returns the r_max of the current world\"\"\"\n",
    "        centi,centj = self.BCentre()\n",
    "        xs, ys = self.livlocs()\n",
    "        r_max_ = 0\n",
    "        for i in range (len(xs)):\n",
    "            r_ij = np.sqrt(((xs[i] - centi)**2) + ((ys[i] - centj)**2))\n",
    "            if DEBUG == 1:\n",
    "                print('r_ij: ',r_ij)\n",
    "            if r_ij > r_max_:\n",
    "                r_max_ = r_ij\n",
    "        return(r_max_)\n",
    "        \n",
    "    def reset(self):\n",
    "        \"\"\"Resets the world to it's initial state\"\"\"\n",
    "        self.world = self.initworld\n",
    "        self.frame = 0\n",
    "\n",
    "\n"
   ]
  },
  {
   "cell_type": "markdown",
   "metadata": {
    "collapsed": false
   },
   "source": [
    "## 1: Study  of ``still`` ``lifes`` and ``oscillators``:  [3 marks]\n",
    "\n",
    "For the following shapes from the data folder:\n",
    "- Loaf (\"data/Loaf.txt\")\n",
    "- Pulsar (\"data/Pulsar.txt\")\n",
    "- Pentadecathlon (\"data/Pentadecathlon.txt\")\n",
    "\n",
    "Find the number of live cells and the $r_{max}$  as a function of time (number of steps).<br>\n",
    "\n",
    "Can you determine the period of the above 3 shapes from these plots?<br>\n",
    "Hint: One of the shapes does not change at all, the other 2 return back to their original configuration after certain steps.\n",
    "\n",
    "$r_{max}$ is defined as:<br>\n",
    "- Given N live cells at positions  ($i$,$j$) \n",
    "- Calculate the population \"barycenter\" ($center_{i}$,$center_{j}$), where $center_{i} =\\frac{\\sum_{i}^{N} i }{N}$ and $center_{j} =\\frac{\\sum_{j}^{N} j }{N}$\n",
    "- Define the distance : $r_{i,j}= \\sqrt{(i-center_i)^2+(j-center_j)^2}$ \n",
    "- $r_{max}$ is the maximum of all the $r_{i,j}$ i.e the distance of the furthest cell from the \"barycenter\" of the population."
   ]
  },
  {
   "cell_type": "code",
   "execution_count": 3,
   "metadata": {
    "collapsed": false
   },
   "outputs": [
   ],
   "source": [
    "# Pulling all the data files at once\n",
    "loaf = Game('data/Loaf.txt')\n",
    "pulsar = Game('data/Pulsar.txt')\n",
    "pentadeca = Game('data/Pentadecathlon.txt')\n",
    "glider = Game('data/Glider.txt')\n",
    "glider_gun = Game('data/GliderGun.txt')\n",
    "blinker = Game('data/Blinker.txt')\n",
    "repl = Game('data/Replicator.txt')\n",
    "rpant = Game('data/R-Pantomino.txt')\n",
    "pond = Game('data/Pond.txt')\n"
   ]
  },
  {
   "cell_type": "code",
   "execution_count": 4,
   "metadata": {
    "collapsed": false,
    "scrolled": true
   },
   "outputs": [
    {
     "name": "stdout",
     "output_type": "stream",
     "text": [
      "Loaf: \n"
     ]
    },
    {
     "data": {
      "image/png": "[encoded data removed]"
     },
     "metadata": {
      "image/png": {
       "height": 263,
       "width": 400
      },
      "needs_background": "light"
     }
    },
    {
     "data": {
      "image/png": "[encoded data removed]"
     },
     "metadata": {
      "image/png": {
       "height": 263,
       "width": 387
      },
      "needs_background": "light"
     }
    },
    {
     "name": "stdout",
     "output_type": "stream",
     "text": [
      "Pulsar: \n"
     ]
    },
    {
     "data": {
      "image/png": "[encoded data removed]"
     },
     "metadata": {
      "image/png": {
       "height": 263,
       "width": 393
      },
      "needs_background": "light"
     }
    },
    {
     "data": {
      "image/png": "[encoded data removed]"
     },
     "metadata": {
      "image/png": {
       "height": 263,
       "width": 384
      },
      "needs_background": "light"
     }
    },
    {
     "name": "stdout",
     "output_type": "stream",
     "text": [
      "Pentadecathlon: \n"
     ]
    },
    {
     "data": {
      "image/png": "[encoded data removed]"
     },
     "metadata": {
      "image/png": {
       "height": 263,
       "width": 387
      },
      "needs_background": "light"
     }
    },
    {
     "data": {
      "image/png": "[encoded data removed]"
     },
     "metadata": {
      "image/png": {
       "height": 263,
       "width": 384
      },
      "needs_background": "light"
     }
    },
    {
     "name": "stdout",
     "output_type": "stream",
     "text": [
      "Loaf is unchanging/No period\n",
      "Pulsar period = 3\n",
      "Pentadecathlon period = 15\n"
     ]
    }
   ],
   "source": [
    "def part1run(world,nframes = 100):\n",
    "    \"\"\"Returns lists of r_max, number of living cells, and frame count of the world as the game progresses\"\"\"\n",
    "    world.reset()\n",
    "    rlist = []\n",
    "    livlist = []\n",
    "    framelist = []\n",
    "    rlist.append(world.r_max())\n",
    "    livlist.append(world.living())\n",
    "    framelist.append(world.frame)\n",
    "    for i in range(nframes):\n",
    "        next(world)\n",
    "        rlist.append(world.r_max())\n",
    "        livlist.append(world.living())\n",
    "        framelist.append(world.frame)\n",
    "    return(rlist, livlist, framelist)\n",
    "    \n",
    "rlistLOAF, livlistLOAF, framelistLOAF = part1run(loaf, 10)\n",
    "rlistPULS, livlistPULS, framelistPULS = part1run(pulsar, 9)\n",
    "rlistPENTD, livlistPENTD, framelistPENTD = part1run(pentadeca, 30)\n",
    "\n",
    "#Plotting the required graphs\n",
    "print('Loaf: ')\n",
    "GeneralListPlot(framelistLOAF, rlistLOAF, 'Time', 'r_max')\n",
    "GeneralListPlot(framelistLOAF, livlistLOAF, 'Time', 'Number of Living Cells')\n",
    "print('Pulsar: ')\n",
    "GeneralListPlot(framelistPULS, rlistPULS, 'Time', 'r_max')\n",
    "GeneralListPlot(framelistPULS, livlistPULS, 'Time', 'Number of Living Cells')\n",
    "print('Pentadecathlon: ')\n",
    "GeneralListPlot(framelistPENTD, rlistPENTD, 'Time', 'r_max')\n",
    "GeneralListPlot(framelistPENTD, livlistPENTD, 'Time', 'Number of Living Cells')\n",
    "\n",
    "\n",
    "print('Loaf is unchanging/No period')\n",
    "print('Pulsar period = 3')\n",
    "print('Pentadecathlon period = 15')"
   ]
  },
  {
   "cell_type": "markdown",
   "metadata": {
    "collapsed": false
   },
   "source": [
    "## 2: Simple animations :  [3 marks]\n",
    "\n",
    "For the following shapes from the data folder:\n",
    "- Blinker (\"data/Blinker.txt\")\n",
    "- Pulsar (\"data/Pulsar.txt\")\n",
    "- Pentadecathlon (\"data/Pentadecathlon.txt\")\n",
    "\n",
    "Produce animations for each one. \n",
    "\n",
    "Hint : Use the results of the previous exercise in order to determine the minimum number of frames where applicable (typically you will not need more the 20 frames or so)."
   ]
  },
  {
   "cell_type": "code",
   "execution_count": 5,
   "metadata": {
    "collapsed": false,
    "scrolled": true
   },
   "outputs": [
    {
     "data": {
      "text/html": [
       "<video width=\"432\" height=\"288\" controls autoplay loop>\n",
       "  <source type=\"video/mp4\" src=\"data:video/mp4;base64,AAAAHGZ0eXBNNFYgAAACAGlzb21pc28yYXZjMQAAAAhmcmVlAAAHlG1kYXQAAAKgBgX//5zcRem9\n",
       "5tlIt5Ys2CDZI+7veDI2NCAtIGNvcmUgMTUyIC0gSC4yNjQvTVBFRy00IEFWQyBjb2RlYyAtIENv\n",
       "cHlsZWZ0IDIwMDMtMjAxNyAtIGh0dHA6Ly93d3cudmlkZW9sYW4ub3JnL3gyNjQuaHRtbCAtIG9w\n",
       "dGlvbnM6IGNhYmFjPTEgcmVmPTMgZGVibG9jaz0xOjA6MCBhbmFseXNlPTB4MzoweDExMyBtZT1o\n",
       "ZXggc3VibWU9NyBwc3k9MSBwc3lfcmQ9MS4wMDowLjAwIG1peGVkX3JlZj0xIG1lX3JhbmdlPTE2\n",
       "IGNocm9tYV9tZT0xIHRyZWxsaXM9MSA4eDhkY3Q9MSBjcW09MCBkZWFkem9uZT0yMSwxMSBmYXN0\n",
       "X3Bza2lwPTEgY2hyb21hX3FwX29mZnNldD0tMiB0aHJlYWRzPTYgbG9va2FoZWFkX3RocmVhZHM9\n",
       "MSBzbGljZWRfdGhyZWFkcz0wIG5yPTAgZGVjaW1hdGU9MSBpbnRlcmxhY2VkPTAgYmx1cmF5X2Nv\n",
       "bXBhdD0wIGNvbnN0cmFpbmVkX2ludHJhPTAgYmZyYW1lcz0zIGJfcHlyYW1pZD0yIGJfYWRhcHQ9\n",
       "MSBiX2JpYXM9MCBkaXJlY3Q9MSB3ZWlnaHRiPTEgb3Blbl9nb3A9MCB3ZWlnaHRwPTIga2V5aW50\n",
       "PTI1MCBrZXlpbnRfbWluPTEwIHNjZW5lY3V0PTQwIGludHJhX3JlZnJlc2g9MCByY19sb29rYWhl\n",
       "YWQ9NDAgcmM9Y3JmIG1idHJlZT0xIGNyZj0yMy4wIHFjb21wPTAuNjAgcXBtaW49MCBxcG1heD02\n",
       "OSBxcHN0ZXA9NCBpcF9yYXRpbz0xLjQwIGFxPTE6MS4wMACAAAAEP2WIhAA7//73Tr8Cm0WXagOS\n",
       "Vwr2yqQmWblSawHypgAAAwAAEbBufJcNeavSJAAArb7P8jnPUcQAsgDXayoosczq2Gz7emnqPo+/\n",
       "gAk8nfr7XmWEO3CLTd0Ghf+bfmBC4hnwxkaVfBfqEpYTaBgkLtD/7Pl1iEp29Y0aQaET0V8mz0fb\n",
       "/HTk8afcf+lbVsv+7c8di74a5wl926cqFQZ3UOnigFEA1D2BO/N5rsXZQyPdRMdg7mQ79Gwzv4zg\n",
       "DgjcSJzW1yRMg2rpdC+6wuCAJvq9XujFjwBLy00a6V9DQFrWGmtBRfWbWlhglkXiX9ZNSP3Hcz78\n",
       "WF98twTOx5AfOVpKE13PRsQ5aN5NIBzs1cXp/0Bfr2ybacUBuiBvkV1VoxATxMi9KGzEX7zUJ3GJ\n",
       "xj8No+uhiWRluDPDByIjTz/X5q8sfs8VYTwGbY3aNU4+jig/8BSGi6NhELQuk4ubu7l4QhoXyKrA\n",
       "m3h9VldGNDW/4+gfZ6TMRszkJnmcrX6ae/gx+nPz7Z96EJSyDHgCZsxw3jnHJdINgRQoK+He8Atx\n",
       "9/61nPgvhhN+vi429UTLVeN2fBRzCEbvkHPpE2DGw5WxuieXsy/YXpTne6rk9oLVzKWtjWvjvJ5T\n",
       "Rler96Ozar8TBXlG3h8AfgVGNkFGo7FYbhXg9I5aRaYV12DH9kWk91DcunXNiXhyzj/laScix93w\n",
       "1VHjuRqCgfEut9wROpPHxMfNyDM+rXPiK1YgzG6BJwAPu/+/+2rbBAWW44X2Cl+ANqmQt3Fy3Mxa\n",
       "IAtd9Bes1CKJTsIKLTNyQ0BY/kv0z8uPcWykX+GSsANibf0KRnilJ0dQzZlFCf9my8qVIYqpeQI6\n",
       "8a3oiNcHDiCvJsRtrpxKSXuN/YJUmNyNL/SqOL+N5AXGmeOoMy3T7hlGGDI0bk2/8yJiSTnuKA1X\n",
       "h3Dt/x9kzh1zcWLuDF//eGAku6kTTjIPUfmNoFxB+2rWeb8QFSvhjyYsh8WfkFWsI3kz9ZOotC48\n",
       "nLxLwaDqXF+CyCZZP90Wegzj9zKOagDlTegF45cIbvdpRzl/rO/PaA0leO++/L3Yb90YTxst+x/E\n",
       "GtUjBioFDFGtd84IPcax6mLNhZ/Bv5LMg//fGbYc9GvGGmyqoAUdAzfB7OpY5EEbh1J8PvmzK8ep\n",
       "5+zfseQXU4pDoMyGmJ24nXBTuMxSLRwp7UGM4FjiW7CS1JiCNW+iRnejYJ9qVJ7HE2egJLWLi2bw\n",
       "X/592WTAr/ThoRrR4gKwvI4ZXbUgAdmY5n23dAARUQgqSpo++tYzcW78WWtraTxLCsmZVx7JeLdR\n",
       "2NGap8UVoUWK2ngxlTooNGGSBFWEAUCcPDit0Tjpw76H7sWmxE2PYKINV1bprtDrf2tegwgkqQC2\n",
       "Y4BDIacxly9vl6uEtZ2HW8J83zWohAjxkElqQxMrsxgM8u/yQABtCKIAroEAAAChQZohbEN//qeE\n",
       "Ei0ovtv7d8sBPQPdYVhP5wgjhAC6T6MwYV8EdOtHWeQ5pognsC4XcBSD5SJG2QST6Y64wUy8qBm1\n",
       "vnaao11SwPLm9rZpznF5pbFDWMrQfXvRU3PMyq6q99Q2bYSCjDbjRW4jadTWPK74ijDyw8w0t281\n",
       "lw8uXD768OXofUZWNtY63d6qB9MWWEemNmeAT22+gU9ycYIHTpgAAAMmbW9vdgAAAGxtdmhkAAAA\n",
       "AAAAAAAAAAAAAAAD6AAAAMgAAQAAAQAAAAAAAAAAAAAAAAEAAAAAAAAAAAAAAAAAAAABAAAAAAAA\n",
       "AAAAAAAAAABAAAAAAAAAAAAAAAAAAAAAAAAAAAAAAAAAAAAAAAAAAgAAAlB0cmFrAAAAXHRraGQA\n",
       "AAADAAAAAAAAAAAAAAABAAAAAAAAAMgAAAAAAAAAAAAAAAAAAAAAAAEAAAAAAAAAAAAAAAAAAAAB\n",
       "AAAAAAAAAAAAAAAAAABAAAAAAbAAAAEgAAAAAAAkZWR0cwAAABxlbHN0AAAAAAAAAAEAAADIAAAA\n",
       "AAABAAAAAAHIbWRpYQAAACBtZGhkAAAAAAAAAAAAAAAAAAAoAAAACABVxAAAAAAALWhkbHIAAAAA\n",
       "AAAAAHZpZGUAAAAAAAAAAAAAAABWaWRlb0hhbmRsZXIAAAABc21pbmYAAAAUdm1oZAAAAAEAAAAA\n",
       "AAAAAAAAACRkaW5mAAAAHGRyZWYAAAAAAAAAAQAAAAx1cmwgAAAAAQAAATNzdGJsAAAAs3N0c2QA\n",
       "AAAAAAAAAQAAAKNhdmMxAAAAAAAAAAEAAAAAAAAAAAAAAAAAAAAAAbABIABIAAAASAAAAAAAAAAB\n",
       "AAAAAAAAAAAAAAAAAAAAAAAAAAAAAAAAAAAAAAAAAAAAGP//AAAAMWF2Y0MBZAAV/+EAGGdkABWs\n",
       "2UGwloQAAAMABAAAAwBQPFi2WAEABmjr48siwAAAABx1dWlka2hA8l8kT8W6OaUbzwMj8wAAAAAA\n",
       "AAAYc3R0cwAAAAAAAAABAAAAAgAABAAAAAAUc3RzcwAAAAAAAAABAAAAAQAAABxzdHNjAAAAAAAA\n",
       "AAEAAAABAAAAAgAAAAEAAAAcc3RzegAAAAAAAAAAAAAAAgAABucAAAClAAAAFHN0Y28AAAAAAAAA\n",
       "AQAAACwAAABidWR0YQAAAFptZXRhAAAAAAAAACFoZGxyAAAAAAAAAABtZGlyYXBwbAAAAAAAAAAA\n",
       "AAAAAC1pbHN0AAAAJal0b28AAAAdZGF0YQAAAAEAAAAATGF2ZjU3LjgzLjEwMA==\n",
       "\">\n",
       "  Your browser does not support the video tag.\n",
       "</video>"
      ]
     },
     "execution_count": 5,
     "metadata": {
     },
     "output_type": "execute_result"
    },
    {
     "data": {
      "text/html": [
       "<video width=\"432\" height=\"288\" controls autoplay loop>\n",
       "  <source type=\"video/mp4\" src=\"data:video/mp4;base64,AAAAHGZ0eXBNNFYgAAACAGlzb21pc28yYXZjMQAAAAhmcmVlAAAZvG1kYXQAAAKgBgX//5zcRem9\n",
       "5tlIt5Ys2CDZI+7veDI2NCAtIGNvcmUgMTUyIC0gSC4yNjQvTVBFRy00IEFWQyBjb2RlYyAtIENv\n",
       "cHlsZWZ0IDIwMDMtMjAxNyAtIGh0dHA6Ly93d3cudmlkZW9sYW4ub3JnL3gyNjQuaHRtbCAtIG9w\n",
       "dGlvbnM6IGNhYmFjPTEgcmVmPTMgZGVibG9jaz0xOjA6MCBhbmFseXNlPTB4MzoweDExMyBtZT1o\n",
       "ZXggc3VibWU9NyBwc3k9MSBwc3lfcmQ9MS4wMDowLjAwIG1peGVkX3JlZj0xIG1lX3JhbmdlPTE2\n",
       "IGNocm9tYV9tZT0xIHRyZWxsaXM9MSA4eDhkY3Q9MSBjcW09MCBkZWFkem9uZT0yMSwxMSBmYXN0\n",
       "X3Bza2lwPTEgY2hyb21hX3FwX29mZnNldD0tMiB0aHJlYWRzPTYgbG9va2FoZWFkX3RocmVhZHM9\n",
       "MSBzbGljZWRfdGhyZWFkcz0wIG5yPTAgZGVjaW1hdGU9MSBpbnRlcmxhY2VkPTAgYmx1cmF5X2Nv\n",
       "bXBhdD0wIGNvbnN0cmFpbmVkX2ludHJhPTAgYmZyYW1lcz0zIGJfcHlyYW1pZD0yIGJfYWRhcHQ9\n",
       "MSBiX2JpYXM9MCBkaXJlY3Q9MSB3ZWlnaHRiPTEgb3Blbl9nb3A9MCB3ZWlnaHRwPTIga2V5aW50\n",
       "PTI1MCBrZXlpbnRfbWluPTEwIHNjZW5lY3V0PTQwIGludHJhX3JlZnJlc2g9MCByY19sb29rYWhl\n",
       "YWQ9NDAgcmM9Y3JmIG1idHJlZT0xIGNyZj0yMy4wIHFjb21wPTAuNjAgcXBtaW49MCBxcG1heD02\n",
       "OSBxcHN0ZXA9NCBpcF9yYXRpbz0xLjQwIGFxPTE6MS4wMACAAAAPgWWIhAA///73aJ8Cm1pDeoDk\n",
       "lcUl20+B/6tncHyP6QMAAAMAAK6sc+imSBhd68YAAm7AJxNwJ1/4gBuPZpp8N7bN3IpgbPpXwZ/q\n",
       "Lr5N1+z+LvNm7cKIiBn/1p+dK/pLyrZ/popCuJDe9GFLUwVeGJpIlwYGEVyoTzv8PGSCFLmL3OPN\n",
       "oTb6+ez9vuSiDZgejj2MYA5AWBgZDpIkHv9OqCpkfu+Cr3qeu/An3ApbxPQK0aLsWh1wgwWqF6+4\n",
       "i+EPXDBFYeEMjVka3x5LKzvhOWgvqdY31ctU84XNg7xQTlfiqU9s314V361rSfqiNx2MIZ7zR7Ek\n",
       "feIOMBAlNKEHh35f5OA5qqPY4aLgM2I3hDGIwnm9T3PZFIobwW/ECkmDS5SLUMGHiqEQagic5a8N\n",
       "6DvJIIWeh76bXfkyWAOjIyUlXPCqg/zh5MqG86ThGKZiD8BJmEpUff8HvobIDfdvPTtxIHpX5IWE\n",
       "CKM0smCCDkuHLqPgNHJNrrVf10E2QsIzOwSnlAEfD2kj9ShQQfjCJC7w9UquP/yjg28t7KxE7zfh\n",
       "4Wn0IVoiLq5aFM9Amf5j9Kk3bwh+OgX8ymCLGjhZsLzkWNdx2/hu8+QsYIQmLm70QFn4UUorlouK\n",
       "+AuBXIjI4a4WqX72cyPrlseF4x7/hQ1Eska8v1JlYhcBnQz15DX/8fLyWKcn9D2BEa86UpD93xOW\n",
       "aPjc1/79mwC9ZAg9DjwuEqjmaV/MtAHk+G0bcMu0+Bvswyv1QZWxgjRGvKTy78HtfLvtBWpLOpas\n",
       "qHaUFfwbBqzsuRmqCMeyKIrs95bbqv8o5hB6e52iXGZ5HfpPNsaAnClRJ31v76Ill2U6s/yc1oMQ\n",
       "ksODHzstMtFMoqRrwAIAf4BNNxC07nvoCnbIAwfnyjtnxsJlIb84JFJuAjQzKEZfSjdNe9dDOBrU\n",
       "p3DFvtjrkCmlmCTqQyjSQFy9k5GqJ3PXTkxqeqtMYh4p55mNTHnb9K/1qwJJP/PFk2f36M8dP389\n",
       "Z2ZkRKnfFvct18hhPDC5NVDMg9PS+GW5tS00hRrrdKGgTIrc6oqUS+haEjDZMuSkt72y7YcknC3O\n",
       "K3GneX1zMrTYUHoRaWqRtnrQsZEQjpfYnjmXmQ7zkvmVWHY95GpWZ9IKgUtoR7IXP3pJQVjr+TFj\n",
       "sYqPcoYJ3U+bGzQLp2HMz/WygbsUw99qv/8vyEBqfnDZLc/MNPsYROXt7i6gtnt/ZLI6qGFMBAAd\n",
       "Y/4lm7WTdU2O9heEmarKpzRw2Q13oz89Tn70n44Ya02aoMBJVamlCElZQzdp5dF+xzti30ILwMjX\n",
       "weGxtOLH8ydwcNm2l5/5fda7XHtpoJ77iRcRBtG7iJEhQgS7OVtY0+UfByIQGxUBun84qp6GP2RW\n",
       "KC2Z5/zzVOA6aLNW199g9ecv3u9liIoz3BJu9m4ewRQeA54/VsXG16M7X/hmJ+vyDFzNXO3icp63\n",
       "/0oMHo8NjXNvdLrS0D5oox06r2XZv7XvzXeuQguPZ4tjdlxwAwdUnIFlOkcGO+NnCLRVMBZBeYZw\n",
       "zMBB7aDmKTrXJEgUfbz15T4ZPM//fFp66aFz7H5r6xggZMTghy9JBT6nkJAduRAdGOJVmfNrUdLJ\n",
       "235k4qASsNGZkr1lneoZzAwLiQA+vPQB85P8jhPj25UD5CP037JRCcaulqKWqLKbeP6oaUyBTZFa\n",
       "gF93NUqHRllSEwBjSA0VLAyfetHJRSu+W+tFcqSyF0v8O1xqURTe9I5Lm1SyhTKrPzoQ1rK0aNQN\n",
       "okmzOM1jXM+81NL1TIxASydlmemF/6BmvLLiDTDpTCQGmPXrjZ0f99W1wrBTnbEUoAQdaQUhpWpf\n",
       "gukXj9OtghYIYAY7dWyQW9Y+v4Qcog9snoW1FfhDEqEnrNU6D9klfpcq8BkMp/Mj/dlWAJphhhP/\n",
       "gqdOctR2UinV0g+HTn7RZ68RXmMcqdp6mxq+ZFIQ6F+yId0VOPHuRdY6tUgdmLsEqLT7gS6ANpOm\n",
       "daQ9PlXgRCyzWVNm33tpmuC+isXG67p538OxxGD97zUwbPfffFdbjCFg3ecFJYv/rRr3dVjxCgAX\n",
       "KGHbAW5wMul0wHA2WMsUd0qrau2Ikl+/daKb5PnPw5FCpDXdb1YaSBWOhkc5uSO7Z9zE/bfF9Hv6\n",
       "W2W8DstU8UyvO00NWDN204B4mU7Lr1HBrej6Us9xMBNw0byXVI9Oh8rMkgDbUeSsY5DRzN0MeMhL\n",
       "eJhFryG+GS+0jOxUfqQx4FIrYr7wH9jRXgY/U8tAM6Z+1JOdfqh7vp0wfkX2y1M5uV4tn9laTIkZ\n",
       "LXai16j+qXUWO1EOYbUuvCMIylJWrYA4IYQQ7H4sdOo//wWeaz8KuwOpmp6I+CxgoUmnkeWqVyiv\n",
       "Tlpj9x+1NfJQcA4sDziv5wg5ZbozL7D/7X6TiWoVx0oap/P0LiOis6xC4zWbnOCv0fE7/xtjSSf+\n",
       "4vI4JKB8lghSbX1TDZ7b7sYBe2hFaoTUetAGB88uRETL5aniC+75krSwIHdUX8b2PPMI5ZCvuQUN\n",
       "p3IvcFfXOIDijHq3iU7qtuw5F6kd6adPI2qeM6rdHx/ehvK8q57+cvkzxjTZ/EI4C6KObbu6MSyy\n",
       "PVRxJ9I0gJSlEA6q5Ovwa/hj3yk+TP/3Oc40oiah1/lFjiCzRteA/BpP7Nft0gWJNqUF1zKV3Dpo\n",
       "Mp0PH4/5BpLAceDZqpQBPg038DiZ0MGNltB7pplRyecY60L5qDBAnBQgkHX0t4j6CAzjLWGJzYBW\n",
       "bH3fMyNYCrhiyV/BqG+NEgyh9cnN3kMzdL+noVRwNlH2f1pQpVHeY7QKbvEfVmx1KBxPvZvbZz/W\n",
       "WmdCj0glMA7bw1Xo52UlorZPyDUC8HF+tlJVjsDkqE65CPeAKAEU/X510Ezqigy5MM64BS5BjcX1\n",
       "Wt9FUDCldaGDlkRjm7GZxytuCp91a6/b6RPYxuKeYE9nu3MJ6bxiJCbvqgUeYNeg00A+K1qzHEqS\n",
       "UF5sDzO1MiR1CR54D4HKEtm2DirTykS9X6Plu1YK2i6wUe/ftfJFhiAj6whesYcxBGrVl041d2bB\n",
       "dPt3e/Zldmjmkvv1R+bgq9JNgH/ogYnR7DG9OxY5EYyKyLDrLA+/K7ID97eRRsAl9Ne/Fhd6KoA6\n",
       "wR2T9oxUcK3u8Q41TxphBv9i45oAWre0DBisNVUN4TQT+XDN4e+VwiyIytbUziE42TvT13m4J83K\n",
       "Q/3VMPZFUqne4riVjahWJSBuZYPwX/shwJ4Ux9oKkaaRQF+unamuTLhhWw4hW3Yo0fJbqW+qrBGV\n",
       "KEs+C7eG0hJvpND+nfQTy2gYAsD2XcjmTf9Kk7TkUv8Fln65O0w849SVKycxptCMd5KtFG0b6mY/\n",
       "I1bodVNZ0b+9WItjfAdhA4thzBQwBNdlgrFOGAush0vgTN1dnfj+ZMGZthG441RgFD3bGhcrtWB4\n",
       "tzCM1H6riVsKZTbUe1j9xMjPHSNRzEYkkZpPdqw2Wkbkov0V0xP6CMMFxzGmZa3GU3DJF6Z3IUAo\n",
       "KL/nW3ryyrQO9BqvqLyQ5pPqjD8+kYEbJaNkBxJMjCFLvH7g9xyGkgz/M2i2T8xH5l7nywmSPWOJ\n",
       "tjsiYuLLaeVKsAAwyro7LtQPcCopfzYoNn34pEOi+Z/qxChWDeVBGOJ95hLm6LrbUzCtgyxrKjhF\n",
       "o+M95zR2Ue0dA8TgaM73eJnMLHXHiutqO0/ofxucuLJJke/yTJ2xbV9yB+O70dj9tX6fWGbgbWOi\n",
       "AojBz3+iClWcyFT4Z6re3lkhafd856SipzLjlHRqbskpZsoN4XFvA/t0Enmo52mOmhgxNI5ySEG3\n",
       "c1Llfn1ccIbRTtHf2Haul5rCZxrNPWOvzV9ySDDID2Az9yAsV/jRdAWozJwL2EPOvMTbQ13X4w2G\n",
       "ZpBzX4WpExXwc4aJgFkx9iQRU8k/53dKdk1k6OL/XPbGiz7lMzu/kMTi2Li62Baq2D9FXl9izWVy\n",
       "0MYxV1GxMVzvIXDDSojugnTRZKp7+lOAizmgxyTneSUWz2usrxICN497E3DQ4cxgDLSSyrzfPgKR\n",
       "Y9B+xfUPHQ0vF8G1XhNZMR/QGaFlKjmSOuQs7sudezKU9liTgmmSgJNlObuJfoI0mbinFmtecaMn\n",
       "DQE4Dngxm6hnfIZI9zonbtAJGoXr5gBhSh+nnM6r64oACAPQvGIbDvZeblYcDg6NOwzcBlTsLZfv\n",
       "o3AaUp8ezTCKRFtOEAcCdRHjN2nhEb8QoYOx3yjDXR06Cvf0C9xadjrh91E9nMw3rZAGI8BFYtWu\n",
       "zkfa54zkFN/k5V6ABac1Uz64zkWZszhEvAboAkc8hueu/lRT+imzmIdDHgPwjKOFjG2LwH0RD7Bz\n",
       "1DWtvzddMvhL5HBT2Vy73u1NWeBtJ9YpvRLIeBZEmEWo4h5OHXXOUc8CeNb0KFlJnvO+YVqunJQJ\n",
       "AN6/gkIDNnPS6I3gYopxaLkPqb0QFmcI+ykBedcdPZD5qwgzmO7KTPe1UuHxdPwtgpUIfASksyRV\n",
       "2RLvo2aTKYnyQTcfvR5rW/zngvxBDiRBH9hJWclK5f1ETc3NJVbqjSEeA0tlvIQIJe3sNviH2Htg\n",
       "5O2ziOx+7ixmGzLIB8qqB+x8PaSlVmOmXr1SwCKIi9qsRoqQSgqcZolryq0I6JPpaha+dNqx4xee\n",
       "DXgjTOCml0DaBfmeibmLoqgbCNgBI99n6cLMmakB7Vllva1ssnk6kK3YO33/pG7m00tEoXk6J/xV\n",
       "IViVtdUJUM5aSvU1FSJ43kpTB4taEf+Fn5zzdZS3POkMWgPzmj6sVqPI4FlqY1fxtJUbkmTSjFAP\n",
       "30VLEFBFugdl/sY8Cw6gmMYw2fgNcHKMCSOkxPMUf6tOH3T2aK0DQq8rl8XkMMx0epDs632UP0Be\n",
       "RotVU+rST5tojgg4L3qMeptPG2ghRzaUQ7J/GiOqHIGSTv4YkaoM3+wq5XM31ZljDoTpd6b0t374\n",
       "ZbXTYWiarwY6LqyPC+j8yDOjWPtjyRX8gHyXdn9xRMMqUNiCjLf81obVNSbwbqGqnwttdf1C6MYr\n",
       "o/k00s/ZCgLPh9ByrmcMk6dQ8wr3oHJ7oNqfLnJxsz5jrdETDah9mmpFnczEnEXmNlq/olT0wPkR\n",
       "pHg3sN0gblzldZadM7INlAqootcG9zhOKihNs3xAs1f+cHP8nEW9CFmt8gkhSF0Xx/skA+/BGmje\n",
       "rvgbTPfwd9oMBVbTJ85IckfUIhf38ZzpOvhvz7P7RR3XTpJE++nLPriAQfQQG94YkIw2NBgBX13x\n",
       "OqivwCAx9x+sJUAAYqzHlQwC+wAAAJ5BmiNsQ3/+p4QBPXhX9ASfLIeF1AkdlYkcKRCP3VTTQ3EY\n",
       "VdCvIICA8XjJAq+q4inluVwDgtdscta2hKc5QHHfR6dWXMIA5zXvd9dXctVtVSrh+bbk6HocbTZD\n",
       "zdPVEZUfBaBeoix38hm/dtfCbdSmmvabjmLKTf9Vgh4BFrAwirO8R+tDKn65joAgCOn1OW/KxpQ8\n",
       "QPfZa3wpx/IscAAABYlBnkF4hv8Afcl2Fg5IFXSYmzTu/hGUXCAF1Yf/4RxrIYDn+L01EBw3/1DH\n",
       "yvPOAw/dCy2Wss8DEpmRt3pgJJp7TdOtZXxQWGPtxv6eDrSgRR4iafs44noaC8ocZpEiS9tjIcr3\n",
       "48/+UVl1YyFKxp2R1/3hX4fbApExytqWztQfdx/l93VovVwXU8xiTZ4xx3U+EPK9Nbj6OsuKvw1G\n",
       "59Kis3vC2iiEtOqEozEdWPZBLwMS921x88F0nkGx5WqsN07+mWOEbPw8XQ9sQuXQ8EkUX9mcZlhe\n",
       "G7g/adiKx2kW7wcPJc1xo+ddaBAtPhW7wSWu1EbhtBgsToRK1nQO2+KpV5FSAtIlZjj/uZKa25rs\n",
       "e9Z+7vn74905gGfUKpEhn06pgN7cWZ1lw7WoKxCdoNg/wc62nDrTsg2dUv4L/JRzIpKGzxIjsPmR\n",
       "cM4jLMfCZJOEEmOpqrYh79fYYrndGfYnEo4T30QHUDaIZjF6ZN7sEjpoz9ix9CbWxKSVJ0isFHcE\n",
       "8Wbv9Rr2INpqFHQ+M+h9GmUWDfELi+cLdr5lepeYRtSE2mcmmRH/vjBb6IN9wuYvpBAB4bvQZ+hX\n",
       "D0ZF5FIvLbZ6taTtrAUU617cmxUbvN7yspkhuiloquK3gdcfVvyy3pYm1YhJrlTqfsrNyLg2Pbnl\n",
       "dubGOCttnb1Da+cT2wEUkOpgnZdT35u8CpFNndEtSFSsEAgy1iLi6f83mPZa0lkmdZlrPkhLRooD\n",
       "IcGVNqDNyj11YTZc8jKqAFkG9CWXgieW8chFQBY/F4pDyawnDdvV8GMHFWsFnTH4x+ocJc68qTYY\n",
       "eLIRECPPLEAzZtJS/YNI+jtfwYM8JkVW1rV/4zdnlAlvNSdnFz1xrm7DLmkENrgfHtXf/yuYh7B4\n",
       "nkMLRQnvXwDQFgn84Ic1cpsNJAbkizWfkX2/NJNmDxr6NiagVJ2j0F3iOgXHJus6jboBNlEq0qdf\n",
       "1QwAkS+fdnMSw7ugdqZH8/p1Fw+x+Ezt2etkpsi//ugSQPu56ONJj75nEnoyvUAOzDa6TLemsZzN\n",
       "oyXuBxc/8MrxVgfU2aB/A1jjB85NufRtxcz0AeLbU3SOi1HQttmYVfLHB8g9olKBYE0cAzsxNlpS\n",
       "tx+5tv4YBVnk1t+PeJwfcL2pKOomesPQWTeo0VGSxZ8ZvJcgLlr5t3x62ROYi8cyGLaLVwaNcNQ4\n",
       "UqWMd1LIkqwxcsxIELGSM8QRH8NgoUDWf13q4Sa3iBZmjwVKk+g2RO4uykbS1cNTsei++vksB7Pe\n",
       "rVNzLKPyIuGcj3QYk2jidCE+izxBWAych38xUrWhNQAW6u1MlUDL+m+sje7OcZ9/WTeS6qdFErgz\n",
       "Z4+nE0amIj+0Lcr0yp6wzHXNPDccG4X/DHqGxQ4TWx9TH5mlbvgYW/ifHMN0XpaaR9BOOF+uSBqH\n",
       "Y+daZsovowLu04K6u3dtR7MDfy50Fskwf3ZjcMz8zIGAyFAI4ww0FBpHP5+lcd54hqF4prszonBI\n",
       "4YPmsn7thNE6C0OW1OgMcMj0KC5XY/JoYJeZn0cE8T8e8TWRYJv+ZUipHqcuajPwIq8O2Gi9J/6V\n",
       "nkYBT39XgKiABukZ5bxfAfmvjLK0iG/wPSYbv2hlheDYdR1tTpu780t3XZiz0MysUnWgAOqsd9Yj\n",
       "/Kfx6lAtHGVYugEh6qh3buhxrmX6AAxOWIHSFmZNmCtZwcHNNlUu4K9VAnE3jA8ShByCKPcDkXTY\n",
       "5N0LKmgiYdP+IQ/X2aLXvHgsn4vnNQz/ivXp1bb/2PcPe0aeGoMi8B8dNZR43n5KH6GHyhUXP95Y\n",
       "cL/HlCvqZQrMcBf20rdrl0UJvZuyBv2Ps7qLXAhwbEtuJ0R4omf4rjisKdoFNAUdR8oiB38csM6N\n",
       "J2fFwj6VAAABWAGeYmpDfwB/V8FWS/4AMVmfF47ZOJ71IwBzveNVTkAAOt3qhUB4f01PolMJ9Jv+\n",
       "rrsdoQjSOrGLofkI6AzlemJU7K1vTdMmrtbzShfaR7HxALmfcVcBLAvL9CeJ32JNX3t8bGarTTFO\n",
       "0wR03L1M9R8HW3gx1EzakG0acgXsld8u1uTR18iZ2rnAZozu6QOTAJMuuhq/g2aFFF8FJWMUZh5v\n",
       "NzjS31+3j9zADMW0Uo+X0D7ol75rT8GEVzC5DCJ8kq17oVDHIkn88ooWY90MTcRBWl+fjGC5oCSk\n",
       "pUB53CQm7baSsXer/kYDJw6Cx5b+2jvKBvJgYP1krZBIwNi7Wd0hWl4OVPNGy2l4irKpNNn3oKhm\n",
       "p8xoyJ9nrBdVbNstG2IFIVF4MS80bMScFRPGbSAbv1I0/prRGdHRorVE9Mli2r4KruB/OK4oIISu\n",
       "yiH8SfTjiWIGeshAAAADVm1vb3YAAABsbXZoZAAAAAAAAAAAAAAAAAAAA+gAAAGQAAEAAAEAAAAA\n",
       "AAAAAAAAAAABAAAAAAAAAAAAAAAAAAAAAQAAAAAAAAAAAAAAAAAAQAAAAAAAAAAAAAAAAAAAAAAA\n",
       "AAAAAAAAAAAAAAAAAAIAAAKAdHJhawAAAFx0a2hkAAAAAwAAAAAAAAAAAAAAAQAAAAAAAAGQAAAA\n",
       "AAAAAAAAAAAAAAAAAAABAAAAAAAAAAAAAAAAAAAAAQAAAAAAAAAAAAAAAAAAQAAAAAGwAAABIAAA\n",
       "AAAAJGVkdHMAAAAcZWxzdAAAAAAAAAABAAABkAAACAAAAQAAAAAB+G1kaWEAAAAgbWRoZAAAAAAA\n",
       "AAAAAAAAAAAAKAAAABAAVcQAAAAAAC1oZGxyAAAAAAAAAAB2aWRlAAAAAAAAAAAAAAAAVmlkZW9I\n",
       "YW5kbGVyAAAAAaNtaW5mAAAAFHZtaGQAAAABAAAAAAAAAAAAAAAkZGluZgAAABxkcmVmAAAAAAAA\n",
       "AAEAAAAMdXJsIAAAAAEAAAFjc3RibAAAALNzdHNkAAAAAAAAAAEAAACjYXZjMQAAAAAAAAABAAAA\n",
       "AAAAAAAAAAAAAAAAAAGwASAASAAAAEgAAAAAAAAAAQAAAAAAAAAAAAAAAAAAAAAAAAAAAAAAAAAA\n",
       "AAAAAAAAABj//wAAADFhdmNDAWQAFf/hABhnZAAVrNlBsJaEAAADAAQAAAMAUDxYtlgBAAZo6+PL\n",
       "IsAAAAAcdXVpZGtoQPJfJE/FujmlG88DI/MAAAAAAAAAGHN0dHMAAAAAAAAAAQAAAAQAAAQAAAAA\n",
       "FHN0c3MAAAAAAAAAAQAAAAEAAAAoY3R0cwAAAAAAAAADAAAAAQAACAAAAAABAAAQAAAAAAIAAAQA\n",
       "AAAAHHN0c2MAAAAAAAAAAQAAAAEAAAAEAAAAAQAAACRzdHN6AAAAAAAAAAAAAAAEAAASKQAAAKIA\n",
       "AAWNAAABXAAAABRzdGNvAAAAAAAAAAEAAAAsAAAAYnVkdGEAAABabWV0YQAAAAAAAAAhaGRscgAA\n",
       "AAAAAAAAbWRpcmFwcGwAAAAAAAAAAAAAAAAtaWxzdAAAACWpdG9vAAAAHWRhdGEAAAABAAAAAExh\n",
       "dmY1Ny44My4xMDA=\n",
       "\">\n",
       "  Your browser does not support the video tag.\n",
       "</video>"
      ]
     },
     "execution_count": 5,
     "metadata": {
     },
     "output_type": "execute_result"
    },
    {
     "name": "stderr",
     "output_type": "stream",
     "text": [
      "WARNING: Some output was deleted.\n"
     ]
    }
   ],
   "source": [
    "# Modified versions of the example code to produes an animation\n",
    "\n",
    "def generate(game): # Using 'game' because world.world just looks wrong and could cause issues\n",
    "    next(game)\n",
    "    newworld = game.world\n",
    "    return(newworld)\n",
    "\n",
    "def animatefunction(world, inputframes = 100, inputinterval = 100):\n",
    "    world.reset()\n",
    "    fig = plt.figure()\n",
    "    img = plt.imshow(generate(world), animated = True)\n",
    "    \n",
    "    def animate(frame):         # Why do we put this in here and not outside?\n",
    "        img.set_data(generate(world))\n",
    "        return (img,)\n",
    "       \n",
    "    plt.close()\n",
    "    anim=animation.FuncAnimation(fig, func=animate, frames=inputframes, interval=inputinterval,blit=True)\n",
    "    display(anim)\n",
    "    pass\n",
    "\n",
    "# Animations for the 3 asked for\n",
    "animatefunction(blinker, inputframes = 2) # Number of frames just from observing the animation\n",
    "animatefunction(pulsar, inputframes = 4) # Also from observing the animation\n",
    "animatefunction(pentadeca, inputframes = 15) # From previous exercise"
   ]
  },
  {
   "cell_type": "markdown",
   "metadata": {
    "collapsed": false
   },
   "source": [
    "## 3: Replicator :  [4 marks]\n",
    "\n",
    "Conway's Life is classified as following the $\\textbf{B}$3/$\\textbf{S}$23 rule.\n",
    "\n",
    "Specifically a cell:\n",
    "- is $\\textbf{B}$orn if it has exactly 3 neighbours\n",
    "- $\\textbf{S}$urvives if it has 2 or 3 living neighbours \n",
    "- it dies otherwise.\n",
    "\n",
    "Another member in the family of \"Life\" cellular automata is ``HighLife`` that follow the $\\textbf{B}$36/$\\textbf{S}$23 rule.\n",
    "\n",
    "A cell:\n",
    "- is $\\textbf{B}$orn if it has 3 or 6 neighbours\n",
    "- $\\textbf{S}$urvives if it has 2 or 3 living neighbours \n",
    "- it dies otherwise.\n",
    "\n",
    "\n",
    "Following the HighLife rules and  employing the Replicator pattern present in the data folder (\"data/Replicator.txt\").\n",
    "\n",
    "1. Evolve it for 36 generations.\n",
    "2. Produce an animation of the above 36 frames showing the system evolution\n",
    "3. Plot the Number of cells versus time\n",
    "4. Plot the  $r_{max}$ as a function of time\n",
    "5. Can you see why it is called a \"Replicator\"?"
   ]
  },
  {
   "cell_type": "code",
   "execution_count": 6,
   "metadata": {
    "collapsed": false,
    "scrolled": true
   },
   "outputs": [
    {
     "name": "stderr",
     "output_type": "stream",
     "text": [
      "WARNING: Some output was deleted.\n"
     ]
    }
   ],
   "source": [
    "HighLifeRepl = Game('data/Replicator.txt', S = [2,3], B = [3,6]) # The magic of our class allows us to freely change the game rules\n",
    "\n",
    "rlistHLR, livlistHLR, framelistHLR = part1run(HighLifeRepl, nframes = 36)\n",
    "\n",
    "animatefunction(HighLifeRepl, inputframes = 36)\n",
    "\n",
    "print('HighLife: ')\n",
    "GeneralListPlot(framelistHLR, rlistHLR, 'Time', 'r_max')\n",
    "GeneralListPlot(framelistHLR, livlistHLR, 'Time', 'Number of Living Cells')\n",
    "\n",
    "# Duplicates (or replicates) the starting shape repeatedly over time\n"
   ]
  },
  {
   "cell_type": "code",
   "execution_count": 7,
   "metadata": {
    "collapsed": false,
    "scrolled": true
   },
   "outputs": [
    {
     "name": "stderr",
     "output_type": "stream",
     "text": [
      "WARNING: Some output was deleted.\n"
     ]
    }
   ],
   "source": [
    "animatefunction(glider, inputframes = 250)"
   ]
  },
  {
   "cell_type": "code",
   "execution_count": 0,
   "metadata": {
    "collapsed": false
   },
   "outputs": [
   ],
   "source": [
   ]
  }
 ],
 "metadata": {
  "kernelspec": {
   "display_name": "Python 3 (Anaconda 5)",
   "env": {
    "LD_LIBRARY_PATH": "/ext/anaconda5/lib",
    "PYTHONHOME": "/ext/anaconda5/lib/python3.5",
    "PYTHONPATH": "/ext/anaconda5/lib/python3.5:/ext/anaconda5/lib/python3.5/site-packages"
   },
   "language": "python",
   "metadata": {
    "cocalc": {
     "description": "Python/R distribution for data science",
     "priority": 5,
     "url": "https://www.anaconda.com/distribution/"
    }
   },
   "name": "anaconda5"
  },
  "language_info": {
   "codemirror_mode": {
    "name": "ipython",
    "version": 3
   },
   "file_extension": ".py",
   "mimetype": "text/x-python",
   "name": "python",
   "nbconvert_exporter": "python",
   "pygments_lexer": "ipython3",
   "version": "3.6.7"
  }
 },
 "nbformat": 4,
 "nbformat_minor": 0
}