{
 "cells": [
  {
   "cell_type": "markdown",
   "metadata": {
    "collapsed": false
   },
   "source": [
    "# Project 6 (part a):\n",
    "\n",
    "## The Game of Life\n",
    "The Game of Life is a cellular automaton devised by the British mathematician John Horton Conway in 1970.<img align=\"right\" src=\"Grid.png\" HEIGHT=\"400\" WIDTH=\"266\"> \n",
    "\n",
    "The \"game\" is a zero-player game, meaning that its evolution is determined by its initial state, requiring no further input. One interacts with the Game of Life by creating an initial configuration and observing how it evolves.\n",
    "\n",
    "The universe of the Game of Life is an infinite two-dimensional array of square cells, each of which is in one of two possible states:\n",
    "\n",
    "- alive: cell has value = 1\n",
    "- dead: cell has value = 0\n",
    "\n",
    "Every cell interacts with its eight neighbours, which are the cells that are horizontally, vertically, or diagonally adjacent. See Figure 1.\n",
    "\n",
    "## Rules of the game:\n",
    "\n",
    "At each step in time (also called \"tick\"), the following transitions occur to all cells simultaneously:\n",
    "\n",
    "1. Any live cell with fewer than two live neighbours dies, as if caused by underpopulation.\n",
    "\n",
    "2. Any live cell with two or three live neighbours lives on to the next generation.\n",
    "\n",
    "3. Any live cell with more than three live neighbours dies, as if by overpopulation.\n",
    "\n",
    "4. Any dead cell with exactly three live neighbours becomes a live cell, as if by reproduction."
   ]
  },
  {
   "cell_type": "code",
   "execution_count": 1,
   "metadata": {
    "collapsed": false
   },
   "outputs": [
   ],
   "source": [
    "# Weekly functions (until I build a module to import) & imports\n",
    "import numpy as np\n",
    "import matplotlib\n",
    "import matplotlib.pyplot as plt\n",
    "\n",
    "def GeneralListPlot(XList, YList, xlabel, ylabel):\n",
    "    \"\"\"A general function to plot 2 lists of floats, and label their axes\"\"\"\n",
    "    plt.plot(XList, YList)\n",
    "    plt.xlabel(xlabel)\n",
    "    plt.ylabel(ylabel)\n",
    "    plt.show()\n",
    "    return()"
   ]
  },
  {
   "cell_type": "code",
   "execution_count": 2,
   "metadata": {
    "collapsed": false,
    "scrolled": true
   },
   "outputs": [
    {
     "name": "stderr",
     "output_type": "stream",
     "text": [
      "WARNING: Some output was deleted.\n"
     ]
    }
   ],
   "source": [
    "### T H E  G A M E ###\n",
    "#\n",
    "#\n",
    "def loaddata(location, plot = 0):\n",
    "    \"\"\"Loads data from .txt file, into a world var. Use plot = 1 to show the initial state\"\"\"\n",
    "    world = np.loadtxt(location ,dtype=np.int8)\n",
    "    paddedworld = np.pad(world, 3, 'constant')\n",
    "    if plot == 1:\n",
    "        plt.imshow(world,cmap=plt.cm.binary,interpolation='nearest') #For if you want to just see the initial shape\n",
    "    return(paddedworld)\n",
    "\n",
    "def SurroundCheck(world, x, y):\n",
    "    sum_ = world[x-1, y-1] + world[x, y-1] + world[x+1,y-1] + world[x-1,y] + world[x+1,y] + world[x-1, y+1] + world[x, y+1] + world[x+1, y+1]\n",
    "    return(sum_)\n",
    "\n",
    "\n",
    "# def worldpad(world):\n",
    "#     \"\"\"Pads the 'world' matrix with 0s on all sides\"\"\"\n",
    "#     paddedworld = np.zeros([len(world)+2, len(world)+2])\n",
    "#     for i in world:\n",
    "#         for j in world:\n",
    "#             paddedworld[i+1][j+1] = world[i][j]\n",
    "#     print(paddedworld)\n",
    "#     return(world)\n",
    "\n",
    "\n",
    "def GameRun(location, framecnt = 100):\n",
    "    world = loaddata(location)\n",
    "    framearray = [(world)]\n",
    "    framearray.append(world)\n",
    "    x = world[:,1]\n",
    "    y = world[1,:]\n",
    "    newworld = np.zeros([len(x),len(y)])\n",
    "    for k in range(framecnt):\n",
    "        for i in range(1, len(x)-3):\n",
    "            for j in range(1, len(y)-3):\n",
    "                SC = SurroundCheck(world, i, j)\n",
    "                if SC < 2:\n",
    "                    newworld[i][j] = 0\n",
    "                elif SC > 3:\n",
    "                    newworld[i][j] = 0\n",
    "                elif SC == 2:\n",
    "                    newworld[i][j] = world[i][j]\n",
    "                elif SC == 3:\n",
    "                    newworld[i][j] = 1\n",
    "        framearray.append(newworld)\n",
    "        world = newworld\n",
    "    return(framearray)\n",
    "\n",
    "\n",
    "# world = loaddata('data/Loaf.txt')\n",
    "\n",
    "# print(world)\n",
    "\n",
    "\n",
    "GameRun('data/Pulsar.txt')"
   ]
  },
  {
   "cell_type": "markdown",
   "metadata": {
    "collapsed": false
   },
   "source": [
    "## 1: Study  of ``still`` ``lifes`` and ``oscillators``:  [3 marks]\n",
    "\n",
    "For the following shapes from the data folder:\n",
    "- Loaf (\"data/Loaf.txt\")\n",
    "- Pulsar (\"data/Pulsar.txt\")\n",
    "- Pentadecathlon (\"data/Pentadecathlon.txt\")\n",
    "\n",
    "Find the number of live cells and the $r_{max}$  as a function of time (number of steps).<br>\n",
    "\n",
    "Can you determine the period of the above 3 shapes from these plots?<br>\n",
    "Hint: One of the shapes does not change at all, the other 2 return back to their original configuration after certain steps.\n",
    "\n",
    "$r_{max}$ is defined as:<br>\n",
    "- Given N live cells at positions  ($i$,$j$) \n",
    "- Calculate the population \"barycenter\" ($center_{i}$,$center_{j}$), where $center_{i} =\\frac{\\sum_{i}^{N} i }{N}$ and $center_{j} =\\frac{\\sum_{j}^{N} j }{N}$\n",
    "- Define the distance : $r_{i,j}= \\sqrt{(i-center_i)^2+(j-center_j)^2}$ \n",
    "- $r_{max}$ is the maximum of all the $r_{i,j}$ i.e the distance of the furthest cell from the \"barycenter\" of the population."
   ]
  },
  {
   "cell_type": "code",
   "execution_count": 3,
   "metadata": {
    "collapsed": false,
    "scrolled": true
   },
   "outputs": [
    {
     "data": {
      "image/png": "[encoded data removed]"
     },
     "execution_count": 3,
     "metadata": {
      "image/png": {
       "height": 250,
       "width": 256
      },
      "needs_background": "light"
     },
     "output_type": "execute_result"
    }
   ],
   "source": [
    "#All the lecture code (with some cleanup): (Comments in this are not very useful: 1/4)\n",
    "#\n",
    "#Example of reading a file to an array and plotting the initial cells configuration\n",
    "import numpy as np\n",
    "import matplotlib\n",
    "import matplotlib.pyplot as plt\n",
    "from IPython.display import HTML\n",
    "world = np.loadtxt('data/Loaf.txt',dtype=np.int8)\n",
    "plt.imshow(world,cmap=plt.cm.binary,interpolation='nearest')\n",
    "\n",
    "\n",
    "#Set the size of the produced figure\n",
    "plt.rcParams['figure.figsize'] = 6, 4\n",
    "\n",
    "#Set up the matplotlib animation\n",
    "import matplotlib.animation as animation\n",
    "plt.rcParams[\"animation.html\"] = \"html5\"\n",
    "\n",
    "#Data Generator\n",
    "def generate(x, y):\n",
    "    return np.sin(x) + np.cos(y)\n",
    "\n",
    "\n",
    "#ArtistAnimation\n",
    "#Given a list of frames/\"artists\"\n",
    "#we pass them to the animation\n",
    "# def animateArtist(frames,inputInterval):\n",
    "#     fig = plt.figure()\n",
    "#     x = np.linspace(0, 2 * np.pi, 30)\n",
    "#     y = np.linspace(0, 2 * np.pi, 25).reshape(-1, 1)\n",
    "\n",
    "#     #List of frames\n",
    "#     ims = []\n",
    "#     for i in range(frames):\n",
    "#         x += np.pi / 15.\n",
    "#         y += np.pi / 20.\n",
    "#         #Get the image/\"artist\" by callinge the function\n",
    "#         im = plt.imshow(generate(x, y), animated=True)\n",
    "#         ims.append([im])\n",
    "\n",
    "#     plt.close()\n",
    "\n",
    "#     #create the animation \n",
    "#     anim=animation.ArtistAnimation(fig, ims, interval=inputInterval,blit=True)\n",
    "#     display(anim)\n",
    "#     pass\n",
    "\n",
    "# animateArtist(100,50)\n",
    "\n",
    "\n",
    "#Function animation creates the frames on demand \n",
    "# A callable \"func\" argument is called for each frame \n",
    "# to provide the relevant data\n",
    "\n",
    "def animateFunction(inputFrames,inputInterval):\n",
    "    fig = plt.figure()\n",
    "    x = np.linspace(0, 2 * np.pi, 30)\n",
    "    y = np.linspace(0, 2 * np.pi, 25).reshape(-1, 1)\n",
    "    im = plt.imshow(generate(x, y), animated=True)\n",
    "\n",
    "    #the FuncAnimation will call this function                 (This is only used in this function, doesn't need to be a function: -0.5 marks)\n",
    "    #for frame in range(frames)\n",
    "    def animate(frame):\n",
    "        localx=x+ frame * np.pi / 15\n",
    "        localy=y+ frame * np.pi / 20.\n",
    "        im.set_data(generate(localx,localy))\n",
    "        return (im,)\n",
    "\n",
    "\n",
    "    plt.close()\n",
    "    #create the animation\n",
    "    anim=animation.FuncAnimation(fig, func=animate, frames=inputFrames,interval=inputInterval,blit=True)\n",
    "    display(anim)\n",
    "    #anim.save('SomeName.gif',writer='imagemagick')\n",
    "    pass\n",
    "\n",
    "# animateFunction(100,50)"
   ]
  },
  {
   "cell_type": "code",
   "execution_count": 4,
   "metadata": {
    "collapsed": false
   },
   "outputs": [
   ],
   "source": [
    "#1: Study of still lifes and oscillators:\n",
    "#\n",
    "#\n",
    "\n",
    "\n",
    "# loafworld = loaddata('data/Loaf.txt')\n",
    "# pulsarworld = loaddata('data/Pulsar.txt')\n",
    "# pentadecathlonworld = loaddata('data/Pentadecathlon.txt')\n",
    "\n",
    "def LiveCells(framesarray, inputInterval):\n",
    "    \"\"\"Sum all the 1s in the lists/array\"\"\"\n",
    "    ns = []\n",
    "    for i in framearray:\n",
    "        ns.append(sum(framearray[i]))\n",
    "    return(ns)\n",
    "\n",
    "\n",
    "# def r_max\n",
    "#     \"\"\"Find locations of cells using i,j loop (reading the i and j of each 1 into a matrix/list), then sub these into the equations\"\"\""
   ]
  },
  {
   "cell_type": "markdown",
   "metadata": {
    "collapsed": false
   },
   "source": [
    "## 2: Simple animations :  [3 marks]\n",
    "\n",
    "For the following shapes from the data folder:\n",
    "- Blinker (\"data/Blinker.txt\")\n",
    "- Pulsar (\"data/Pulsar.txt\")\n",
    "- Pentadecathlon (\"data/Pentadecathlon.txt\")\n",
    "\n",
    "Produce animations for each one. \n",
    "\n",
    "Hint : Use the results of the previous exercise in order to determine the minimum number of frames where applicable (typically you will not need more the 20 frames or so)."
   ]
  },
  {
   "cell_type": "code",
   "execution_count": 5,
   "metadata": {
    "collapsed": false
   },
   "outputs": [
    {
     "name": "stderr",
     "output_type": "stream",
     "text": [
      "Traceback (most recent call last):\n",
      "  File \"/ext/anaconda5/lib/python3.6/site-packages/matplotlib/cbook/__init__.py\", line 387, in process\n",
      "    proxy(*args, **kwargs)\n",
      "  File \"/ext/anaconda5/lib/python3.6/site-packages/matplotlib/cbook/__init__.py\", line 227, in __call__\n",
      "    return mtd(*args, **kwargs)\n",
      "  File \"/ext/anaconda5/lib/python3.6/site-packages/matplotlib/animation.py\", line 1026, in _start\n",
      "    self._init_draw()\n",
      "  File \"/ext/anaconda5/lib/python3.6/site-packages/matplotlib/animation.py\", line 1750, in _init_draw\n",
      "    self._draw_frame(next(self.new_frame_seq()))\n",
      "  File \"/ext/anaconda5/lib/python3.6/site-packages/matplotlib/animation.py\", line 1772, in _draw_frame\n",
      "    self._drawn_artists = self._func(framedata, *self._args)\n",
      "  File \"<ipython-input-3-669725425ad3>\", line 64, in animate\n",
      "    localx=x+ frame * np.pi / 15\n",
      "ValueError: operands could not be broadcast together with shapes (30,) (23,23) \n"
     ]
    },
    {
     "ename": "ValueError",
     "evalue": "operands could not be broadcast together with shapes (30,) (23,23) ",
     "output_type": "error",
     "traceback": [
      "\u001b[0;31m---------------------------------------------------------------------------\u001b[0m",
      "\u001b[0;31mValueError\u001b[0m                                Traceback (most recent call last)",
      "\u001b[0;32m/ext/anaconda5/lib/python3.6/site-packages/IPython/core/formatters.py\u001b[0m in \u001b[0;36m__call__\u001b[0;34m(self, obj)\u001b[0m\n\u001b[1;32m    343\u001b[0m             \u001b[0mmethod\u001b[0m \u001b[0;34m=\u001b[0m \u001b[0mget_real_method\u001b[0m\u001b[0;34m(\u001b[0m\u001b[0mobj\u001b[0m\u001b[0;34m,\u001b[0m \u001b[0mself\u001b[0m\u001b[0;34m.\u001b[0m\u001b[0mprint_method\u001b[0m\u001b[0;34m)\u001b[0m\u001b[0;34m\u001b[0m\u001b[0m\n\u001b[1;32m    344\u001b[0m             \u001b[0;32mif\u001b[0m \u001b[0mmethod\u001b[0m \u001b[0;32mis\u001b[0m \u001b[0;32mnot\u001b[0m \u001b[0;32mNone\u001b[0m\u001b[0;34m:\u001b[0m\u001b[0;34m\u001b[0m\u001b[0m\n\u001b[0;32m--> 345\u001b[0;31m                 \u001b[0;32mreturn\u001b[0m \u001b[0mmethod\u001b[0m\u001b[0;34m(\u001b[0m\u001b[0;34m)\u001b[0m\u001b[0;34m\u001b[0m\u001b[0m\n\u001b[0m\u001b[1;32m    346\u001b[0m             \u001b[0;32mreturn\u001b[0m \u001b[0;32mNone\u001b[0m\u001b[0;34m\u001b[0m\u001b[0m\n\u001b[1;32m    347\u001b[0m         \u001b[0;32melse\u001b[0m\u001b[0;34m:\u001b[0m\u001b[0;34m\u001b[0m\u001b[0m\n",
      "\u001b[0;32m/ext/anaconda5/lib/python3.6/site-packages/matplotlib/animation.py\u001b[0m in \u001b[0;36m_repr_html_\u001b[0;34m(self)\u001b[0m\n\u001b[1;32m   1421\u001b[0m         \u001b[0mfmt\u001b[0m \u001b[0;34m=\u001b[0m \u001b[0mrcParams\u001b[0m\u001b[0;34m[\u001b[0m\u001b[0;34m'animation.html'\u001b[0m\u001b[0;34m]\u001b[0m\u001b[0;34m\u001b[0m\u001b[0m\n\u001b[1;32m   1422\u001b[0m         \u001b[0;32mif\u001b[0m \u001b[0mfmt\u001b[0m \u001b[0;34m==\u001b[0m \u001b[0;34m'html5'\u001b[0m\u001b[0;34m:\u001b[0m\u001b[0;34m\u001b[0m\u001b[0m\n\u001b[0;32m-> 1423\u001b[0;31m             \u001b[0;32mreturn\u001b[0m \u001b[0mself\u001b[0m\u001b[0;34m.\u001b[0m\u001b[0mto_html5_video\u001b[0m\u001b[0;34m(\u001b[0m\u001b[0;34m)\u001b[0m\u001b[0;34m\u001b[0m\u001b[0m\n\u001b[0m\u001b[1;32m   1424\u001b[0m         \u001b[0;32melif\u001b[0m \u001b[0mfmt\u001b[0m \u001b[0;34m==\u001b[0m \u001b[0;34m'jshtml'\u001b[0m\u001b[0;34m:\u001b[0m\u001b[0;34m\u001b[0m\u001b[0m\n\u001b[1;32m   1425\u001b[0m             \u001b[0;32mreturn\u001b[0m \u001b[0mself\u001b[0m\u001b[0;34m.\u001b[0m\u001b[0mto_jshtml\u001b[0m\u001b[0;34m(\u001b[0m\u001b[0;34m)\u001b[0m\u001b[0;34m\u001b[0m\u001b[0m\n",
      "\u001b[0;32m/ext/anaconda5/lib/python3.6/site-packages/matplotlib/animation.py\u001b[0m in \u001b[0;36mto_html5_video\u001b[0;34m(self, embed_limit)\u001b[0m\n\u001b[1;32m   1351\u001b[0m                                 \u001b[0mbitrate\u001b[0m\u001b[0;34m=\u001b[0m\u001b[0mrcParams\u001b[0m\u001b[0;34m[\u001b[0m\u001b[0;34m'animation.bitrate'\u001b[0m\u001b[0;34m]\u001b[0m\u001b[0;34m,\u001b[0m\u001b[0;34m\u001b[0m\u001b[0m\n\u001b[1;32m   1352\u001b[0m                                 fps=1000. / self._interval)\n\u001b[0;32m-> 1353\u001b[0;31m                 \u001b[0mself\u001b[0m\u001b[0;34m.\u001b[0m\u001b[0msave\u001b[0m\u001b[0;34m(\u001b[0m\u001b[0mf\u001b[0m\u001b[0;34m.\u001b[0m\u001b[0mname\u001b[0m\u001b[0;34m,\u001b[0m \u001b[0mwriter\u001b[0m\u001b[0;34m=\u001b[0m\u001b[0mwriter\u001b[0m\u001b[0;34m)\u001b[0m\u001b[0;34m\u001b[0m\u001b[0m\n\u001b[0m\u001b[1;32m   1354\u001b[0m \u001b[0;34m\u001b[0m\u001b[0m\n\u001b[1;32m   1355\u001b[0m             \u001b[0;31m# Now open and base64 encode\u001b[0m\u001b[0;34m\u001b[0m\u001b[0;34m\u001b[0m\u001b[0m\n",
      "\u001b[0;32m/ext/anaconda5/lib/python3.6/site-packages/matplotlib/animation.py\u001b[0m in \u001b[0;36msave\u001b[0;34m(self, filename, writer, fps, dpi, codec, bitrate, extra_args, metadata, extra_anim, savefig_kwargs)\u001b[0m\n\u001b[1;32m   1193\u001b[0m                 \u001b[0;32mfor\u001b[0m \u001b[0manim\u001b[0m \u001b[0;32min\u001b[0m \u001b[0mall_anim\u001b[0m\u001b[0;34m:\u001b[0m\u001b[0;34m\u001b[0m\u001b[0m\n\u001b[1;32m   1194\u001b[0m                     \u001b[0;31m# Clear the initial frame\u001b[0m\u001b[0;34m\u001b[0m\u001b[0;34m\u001b[0m\u001b[0m\n\u001b[0;32m-> 1195\u001b[0;31m                     \u001b[0manim\u001b[0m\u001b[0;34m.\u001b[0m\u001b[0m_init_draw\u001b[0m\u001b[0;34m(\u001b[0m\u001b[0;34m)\u001b[0m\u001b[0;34m\u001b[0m\u001b[0m\n\u001b[0m\u001b[1;32m   1196\u001b[0m                 \u001b[0;32mfor\u001b[0m \u001b[0mdata\u001b[0m \u001b[0;32min\u001b[0m \u001b[0mzip\u001b[0m\u001b[0;34m(\u001b[0m\u001b[0;34m*\u001b[0m\u001b[0;34m[\u001b[0m\u001b[0ma\u001b[0m\u001b[0;34m.\u001b[0m\u001b[0mnew_saved_frame_seq\u001b[0m\u001b[0;34m(\u001b[0m\u001b[0;34m)\u001b[0m \u001b[0;32mfor\u001b[0m \u001b[0ma\u001b[0m \u001b[0;32min\u001b[0m \u001b[0mall_anim\u001b[0m\u001b[0;34m]\u001b[0m\u001b[0;34m)\u001b[0m\u001b[0;34m:\u001b[0m\u001b[0;34m\u001b[0m\u001b[0m\n\u001b[1;32m   1197\u001b[0m                     \u001b[0;32mfor\u001b[0m \u001b[0manim\u001b[0m\u001b[0;34m,\u001b[0m \u001b[0md\u001b[0m \u001b[0;32min\u001b[0m \u001b[0mzip\u001b[0m\u001b[0;34m(\u001b[0m\u001b[0mall_anim\u001b[0m\u001b[0;34m,\u001b[0m \u001b[0mdata\u001b[0m\u001b[0;34m)\u001b[0m\u001b[0;34m:\u001b[0m\u001b[0;34m\u001b[0m\u001b[0m\n",
      "\u001b[0;32m/ext/anaconda5/lib/python3.6/site-packages/matplotlib/animation.py\u001b[0m in \u001b[0;36m_init_draw\u001b[0;34m(self)\u001b[0m\n\u001b[1;32m   1748\u001b[0m         \u001b[0;31m# artists.\u001b[0m\u001b[0;34m\u001b[0m\u001b[0;34m\u001b[0m\u001b[0m\n\u001b[1;32m   1749\u001b[0m         \u001b[0;32mif\u001b[0m \u001b[0mself\u001b[0m\u001b[0;34m.\u001b[0m\u001b[0m_init_func\u001b[0m \u001b[0;32mis\u001b[0m \u001b[0;32mNone\u001b[0m\u001b[0;34m:\u001b[0m\u001b[0;34m\u001b[0m\u001b[0m\n\u001b[0;32m-> 1750\u001b[0;31m             \u001b[0mself\u001b[0m\u001b[0;34m.\u001b[0m\u001b[0m_draw_frame\u001b[0m\u001b[0;34m(\u001b[0m\u001b[0mnext\u001b[0m\u001b[0;34m(\u001b[0m\u001b[0mself\u001b[0m\u001b[0;34m.\u001b[0m\u001b[0mnew_frame_seq\u001b[0m\u001b[0;34m(\u001b[0m\u001b[0;34m)\u001b[0m\u001b[0;34m)\u001b[0m\u001b[0;34m)\u001b[0m\u001b[0;34m\u001b[0m\u001b[0m\n\u001b[0m\u001b[1;32m   1751\u001b[0m \u001b[0;34m\u001b[0m\u001b[0m\n\u001b[1;32m   1752\u001b[0m         \u001b[0;32melse\u001b[0m\u001b[0;34m:\u001b[0m\u001b[0;34m\u001b[0m\u001b[0m\n",
      "\u001b[0;32m/ext/anaconda5/lib/python3.6/site-packages/matplotlib/animation.py\u001b[0m in \u001b[0;36m_draw_frame\u001b[0;34m(self, framedata)\u001b[0m\n\u001b[1;32m   1770\u001b[0m         \u001b[0;31m# Call the func with framedata and args. If blitting is desired,\u001b[0m\u001b[0;34m\u001b[0m\u001b[0;34m\u001b[0m\u001b[0m\n\u001b[1;32m   1771\u001b[0m         \u001b[0;31m# func needs to return a sequence of any artists that were modified.\u001b[0m\u001b[0;34m\u001b[0m\u001b[0;34m\u001b[0m\u001b[0m\n\u001b[0;32m-> 1772\u001b[0;31m         \u001b[0mself\u001b[0m\u001b[0;34m.\u001b[0m\u001b[0m_drawn_artists\u001b[0m \u001b[0;34m=\u001b[0m \u001b[0mself\u001b[0m\u001b[0;34m.\u001b[0m\u001b[0m_func\u001b[0m\u001b[0;34m(\u001b[0m\u001b[0mframedata\u001b[0m\u001b[0;34m,\u001b[0m \u001b[0;34m*\u001b[0m\u001b[0mself\u001b[0m\u001b[0;34m.\u001b[0m\u001b[0m_args\u001b[0m\u001b[0;34m)\u001b[0m\u001b[0;34m\u001b[0m\u001b[0m\n\u001b[0m\u001b[1;32m   1773\u001b[0m         \u001b[0;32mif\u001b[0m \u001b[0mself\u001b[0m\u001b[0;34m.\u001b[0m\u001b[0m_blit\u001b[0m\u001b[0;34m:\u001b[0m\u001b[0;34m\u001b[0m\u001b[0m\n\u001b[1;32m   1774\u001b[0m             \u001b[0;32mif\u001b[0m \u001b[0mself\u001b[0m\u001b[0;34m.\u001b[0m\u001b[0m_drawn_artists\u001b[0m \u001b[0;32mis\u001b[0m \u001b[0;32mNone\u001b[0m\u001b[0;34m:\u001b[0m\u001b[0;34m\u001b[0m\u001b[0m\n",
      "\u001b[0;32m<ipython-input-3-669725425ad3>\u001b[0m in \u001b[0;36manimate\u001b[0;34m(frame)\u001b[0m\n\u001b[1;32m     62\u001b[0m     \u001b[0;31m#for frame in range(frames)\u001b[0m\u001b[0;34m\u001b[0m\u001b[0;34m\u001b[0m\u001b[0m\n\u001b[1;32m     63\u001b[0m     \u001b[0;32mdef\u001b[0m \u001b[0manimate\u001b[0m\u001b[0;34m(\u001b[0m\u001b[0mframe\u001b[0m\u001b[0;34m)\u001b[0m\u001b[0;34m:\u001b[0m\u001b[0;34m\u001b[0m\u001b[0m\n\u001b[0;32m---> 64\u001b[0;31m         \u001b[0mlocalx\u001b[0m\u001b[0;34m=\u001b[0m\u001b[0mx\u001b[0m\u001b[0;34m+\u001b[0m \u001b[0mframe\u001b[0m \u001b[0;34m*\u001b[0m \u001b[0mnp\u001b[0m\u001b[0;34m.\u001b[0m\u001b[0mpi\u001b[0m \u001b[0;34m/\u001b[0m \u001b[0;36m15\u001b[0m\u001b[0;34m\u001b[0m\u001b[0m\n\u001b[0m\u001b[1;32m     65\u001b[0m         \u001b[0mlocaly\u001b[0m\u001b[0;34m=\u001b[0m\u001b[0my\u001b[0m\u001b[0;34m+\u001b[0m \u001b[0mframe\u001b[0m \u001b[0;34m*\u001b[0m \u001b[0mnp\u001b[0m\u001b[0;34m.\u001b[0m\u001b[0mpi\u001b[0m \u001b[0;34m/\u001b[0m \u001b[0;36m20.\u001b[0m\u001b[0;34m\u001b[0m\u001b[0m\n\u001b[1;32m     66\u001b[0m         \u001b[0mim\u001b[0m\u001b[0;34m.\u001b[0m\u001b[0mset_data\u001b[0m\u001b[0;34m(\u001b[0m\u001b[0mgenerate\u001b[0m\u001b[0;34m(\u001b[0m\u001b[0mlocalx\u001b[0m\u001b[0;34m,\u001b[0m\u001b[0mlocaly\u001b[0m\u001b[0;34m)\u001b[0m\u001b[0;34m)\u001b[0m\u001b[0;34m\u001b[0m\u001b[0m\n",
      "\u001b[0;31mValueError\u001b[0m: operands could not be broadcast together with shapes (30,) (23,23) "
     ]
    },
    {
     "data": {
      "text/plain": [
       "<matplotlib.animation.FuncAnimation at 0x7f437c91e438>"
      ]
     },
     "execution_count": 5,
     "metadata": {
     },
     "output_type": "execute_result"
    }
   ],
   "source": [
    "# 2: Simple animations :\n",
    "pulsararray = GameRun('data/Pulsar.txt', 100)\n",
    "animateFunction(pulsararray, 50)\n",
    "# # fig = plt.figure()\n",
    "# # anim=animation.ArtistAnimation(fig, pulsararray, interval=50,blit=True)\n",
    "# # display(anim)\n",
    "\n",
    "\n",
    "# hmpf = np.ones([4,4])\n",
    "# hmpf[2][1] = 0\n",
    "# imagelist = pulsararray\n",
    "\n",
    "# fig = plt.figure() # make figure\n",
    "\n",
    "# # make axesimage object\n",
    "# # the vmin and vmax here are very important to get the color map correct\n",
    "# im = plt.imshow(imagelist[0], cmap=plt.get_cmap('jet'), vmin=0, vmax=255)\n",
    "\n",
    "# # function to update figure\n",
    "# def updatefig(j):\n",
    "#     # set the data in the axesimage object\n",
    "#     im.set_array(imagelist[j])\n",
    "#     # return the artists set\n",
    "#     return [im]\n",
    "# # kick off the animation\n",
    "# ani = animation.FuncAnimation(fig, updatefig, frames=range(20), interval=50, blit=True)\n",
    "# plt.show()"
   ]
  },
  {
   "cell_type": "markdown",
   "metadata": {
    "collapsed": false
   },
   "source": [
    "## 3: Replicator :  [4 marks]\n",
    "\n",
    "Conway's Life is classified as following the $\\textbf{B}$3/$\\textbf{S}$23 rule.\n",
    "\n",
    "Specifically a cell:\n",
    "- is $\\textbf{B}$orn if it has exactly 3 neighbours\n",
    "- $\\textbf{S}$urvives if it has 2 or 3 living neighbours \n",
    "- it dies otherwise.\n",
    "\n",
    "Another member in the family of \"Life\" cellular automata is ``HighLife`` that follow the $\\textbf{B}$36/$\\textbf{S}$23 rule.\n",
    "\n",
    "A cell:\n",
    "- is $\\textbf{B}$orn if it has 3 or 6 neighbours\n",
    "- $\\textbf{S}$urvives if it has 2 or 3 living neighbours \n",
    "- it dies otherwise.\n",
    "\n",
    "\n",
    "Following the HighLife rules and  employing the Replicator pattern present in the data folder (\"data/Replicator.txt\").\n",
    "\n",
    "1. Evolve it for 36 generations.\n",
    "2. Produce an animation of the above 36 frames showing the system evolution\n",
    "3. Plot the Number of cells versus time\n",
    "4. Plot the  $r_{max}$ as a function of time\n",
    "5. Can you see why it is called a \"Replicator\"?"
   ]
  }
 ],
 "metadata": {
  "kernelspec": {
   "display_name": "Python 3 (Anaconda 5)",
   "language": "python",
   "name": "anaconda5"
  },
  "language_info": {
   "codemirror_mode": {
    "name": "ipython",
    "version": 3
   },
   "file_extension": ".py",
   "mimetype": "text/x-python",
   "name": "python",
   "nbconvert_exporter": "python",
   "pygments_lexer": "ipython3",
   "version": "3.6.6"
  }
 },
 "nbformat": 4,
 "nbformat_minor": 0
}